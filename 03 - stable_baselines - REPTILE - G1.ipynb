{
 "cells": [
  {
   "cell_type": "code",
   "execution_count": 1,
   "metadata": {},
   "outputs": [
    {
     "name": "stderr",
     "output_type": "stream",
     "text": [
      "/home/user/anaconda3/lib/python3.9/site-packages/torch/utils/tensorboard/__init__.py:4: DeprecationWarning: distutils Version classes are deprecated. Use packaging.version instead.\n",
      "  if not hasattr(tensorboard, \"__version__\") or LooseVersion(\n",
      "/home/user/anaconda3/lib/python3.9/site-packages/stable_baselines3/common/cmd_util.py:5: FutureWarning: Module ``common.cmd_util`` has been renamed to ``common.env_util`` and will be removed in the future.\n",
      "  warnings.warn(\n"
     ]
    }
   ],
   "source": [
    "import gym\n",
    "import numpy as np\n",
    "import torch\n",
    "\n",
    "from environments import *\n",
    "\n",
    "from stable_baselines3 import SAC, HerReplayBuffer\n",
    "from stable_baselines3.common.cmd_util import make_vec_env"
   ]
  },
  {
   "cell_type": "code",
   "execution_count": 2,
   "metadata": {},
   "outputs": [
    {
     "name": "stderr",
     "output_type": "stream",
     "text": [
      "/home/user/anaconda3/lib/python3.9/site-packages/gym/core.py:329: DeprecationWarning: \u001b[33mWARN: Initializing wrapper in old step API which returns one bool instead of two. It is recommended to set `new_step_api=True` to use new step API. This will be the default behaviour in future.\u001b[0m\n",
      "  deprecation(\n",
      "/home/user/anaconda3/lib/python3.9/site-packages/gym/wrappers/step_api_compatibility.py:39: DeprecationWarning: \u001b[33mWARN: Initializing environment in old step API which returns one bool instead of two. It is recommended to set `new_step_api=True` to use new step API. This will be the default behaviour in future.\u001b[0m\n",
      "  deprecation(\n"
     ]
    }
   ],
   "source": [
    "env = make_vec_env(\"G1GoalDist-v1\", 32)"
   ]
  },
  {
   "cell_type": "code",
   "execution_count": 13,
   "metadata": {},
   "outputs": [
    {
     "name": "stdout",
     "output_type": "stream",
     "text": [
      "Using cuda device\n"
     ]
    }
   ],
   "source": [
    "model = SAC(\n",
    "    \"MlpPolicy\", \n",
    "    env, \n",
    "    verbose=1,\n",
    "    policy_kwargs=dict(\n",
    "        net_arch=[512, 512, 512, 512], \n",
    "        activation_fn=torch.nn.ELU,\n",
    "        n_critics=2,\n",
    "    ),\n",
    "    batch_size=4096,\n",
    "    # buffer_size=14000000,\n",
    "    gradient_steps=2,\n",
    "    learning_rate=3e-3,\n",
    "    tensorboard_log=\"./logs/sac/\"\n",
    ")"
   ]
  },
  {
   "cell_type": "code",
   "execution_count": 14,
   "metadata": {},
   "outputs": [],
   "source": [
    "model.set_parameters(\"trained_models/g1-reptile/sac\")"
   ]
  },
  {
   "cell_type": "code",
   "execution_count": null,
   "metadata": {},
   "outputs": [
    {
     "name": "stdout",
     "output_type": "stream",
     "text": [
      "Logging to ./logs/sac/reptile_0\n",
      "----------------------------------\n",
      "| rollout/           |           |\n",
      "|    ep_len_mean     | 49.6      |\n",
      "|    ep_rew_mean     | -1.64e+03 |\n",
      "| time/              |           |\n",
      "|    episodes        | 100       |\n",
      "|    fps             | 305       |\n",
      "|    time_elapsed    | 26        |\n",
      "|    total_timesteps | 8160      |\n",
      "| train/             |           |\n",
      "|    actor_loss      | 1.38e+04  |\n",
      "|    critic_loss     | 4.35e+05  |\n",
      "|    ent_coef        | 43.3      |\n",
      "|    ent_coef_loss   | -425      |\n",
      "|    learning_rate   | 0.003     |\n",
      "|    n_updates       | 502       |\n",
      "----------------------------------\n"
     ]
    }
   ],
   "source": [
    "model.learn(\n",
    "    total_timesteps=int(1e7), \n",
    "    log_interval=100,\n",
    "    tb_log_name='reptile',\n",
    "    reset_num_timesteps=False,\n",
    ")"
   ]
  },
  {
   "cell_type": "code",
   "execution_count": 6,
   "metadata": {},
   "outputs": [],
   "source": [
    "model.save(\"trained_models/g1-reptile/sac\")"
   ]
  },
  {
   "cell_type": "code",
   "execution_count": null,
   "metadata": {},
   "outputs": [],
   "source": []
  }
 ],
 "metadata": {
  "kernelspec": {
   "display_name": "Python 3 (ipykernel)",
   "language": "python",
   "name": "python3"
  },
  "language_info": {
   "codemirror_mode": {
    "name": "ipython",
    "version": 3
   },
   "file_extension": ".py",
   "mimetype": "text/x-python",
   "name": "python",
   "nbconvert_exporter": "python",
   "pygments_lexer": "ipython3",
   "version": "3.9.12"
  },
  "vscode": {
   "interpreter": {
    "hash": "82ea6adb180b12ed72836e614d5d57295654ca2a9780d621124b81b6a9baa809"
   }
  }
 },
 "nbformat": 4,
 "nbformat_minor": 2
}
