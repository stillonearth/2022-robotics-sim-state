{
 "cells": [
  {
   "cell_type": "code",
   "execution_count": 7,
   "id": "146a73e6",
   "metadata": {},
   "outputs": [],
   "source": [
    "from stable_baselines3.common.vec_env import VecVideoRecorder, DummyVecEnv\n",
    "from stable_baselines3 import SAC, HerReplayBuffer\n",
    "from environments import *\n",
    "\n",
    "import torch\n",
    "import numpy as np\n",
    "import gym\n",
    "import imageio"
   ]
  },
  {
   "cell_type": "code",
   "execution_count": 9,
   "id": "5b36970d",
   "metadata": {},
   "outputs": [],
   "source": [
    "env_id = 'G1GoalDist-v1'\n",
    "video_folder = 'renders'\n",
    "video_length = 500"
   ]
  },
  {
   "cell_type": "code",
   "execution_count": 11,
   "id": "7d2b9a3d",
   "metadata": {},
   "outputs": [],
   "source": [
    "model = SAC.load(\"trained_models/g1-reptile/sac\")"
   ]
  },
  {
   "cell_type": "code",
   "execution_count": 12,
   "id": "30641f5b",
   "metadata": {},
   "outputs": [],
   "source": [
    "env = gym.make(env_id)"
   ]
  },
  {
   "cell_type": "code",
   "execution_count": 28,
   "id": "2a7c079b",
   "metadata": {},
   "outputs": [],
   "source": [
    "tasks = env.sample_tasks(36)"
   ]
  },
  {
   "cell_type": "code",
   "execution_count": 30,
   "id": "bbcd8586",
   "metadata": {},
   "outputs": [],
   "source": [
    "for task in tasks:\n",
    "    env.reset_task(task)\n",
    "    env.reset()\n",
    "\n",
    "    obs = env.reset()\n",
    "    img = env.render(mode='rgb_array')\n",
    "\n",
    "    images = []\n",
    "\n",
    "    for i in range(video_length + 1):\n",
    "        images.append(img)\n",
    "        action = model.predict(obs)\n",
    "        obs, _, _, _ = env.step(action[0])\n",
    "        img = env.render(mode='rgb_array')\n",
    "\n",
    "    imageio.mimsave(\n",
    "    'renders/reptile/' + str(task['direction']) + '.gif', \n",
    "        [np.array(img) for i, img in enumerate(images) if i%2 == 0], \n",
    "        fps=29,\n",
    "    )\n",
    "\n",
    "\n",
    "env.close()"
   ]
  },
  {
   "cell_type": "code",
   "execution_count": null,
   "id": "54aa0384",
   "metadata": {},
   "outputs": [],
   "source": []
  }
 ],
 "metadata": {
  "kernelspec": {
   "display_name": "Python 3.10.6 ('torch')",
   "language": "python",
   "name": "python3"
  },
  "language_info": {
   "codemirror_mode": {
    "name": "ipython",
    "version": 3
   },
   "file_extension": ".py",
   "mimetype": "text/x-python",
   "name": "python",
   "nbconvert_exporter": "python",
   "pygments_lexer": "ipython3",
   "version": "3.10.6"
  },
  "vscode": {
   "interpreter": {
    "hash": "82ea6adb180b12ed72836e614d5d57295654ca2a9780d621124b81b6a9baa809"
   }
  }
 },
 "nbformat": 4,
 "nbformat_minor": 5
}
