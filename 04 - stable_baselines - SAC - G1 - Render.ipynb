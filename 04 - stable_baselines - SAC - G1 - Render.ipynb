{
 "cells": [
  {
   "cell_type": "code",
   "execution_count": 1,
   "id": "146a73e6",
   "metadata": {},
   "outputs": [
    {
     "name": "stderr",
     "output_type": "stream",
     "text": [
      "c:\\Users\\ssuro\\anaconda3\\lib\\site-packages\\torch\\utils\\tensorboard\\__init__.py:4: DeprecationWarning: distutils Version classes are deprecated. Use packaging.version instead.\n",
      "  if not hasattr(tensorboard, \"__version__\") or LooseVersion(\n",
      "c:\\Users\\ssuro\\anaconda3\\lib\\site-packages\\tensorboard\\compat\\proto\\tensor_shape_pb2.py:18: DeprecationWarning: Call to deprecated create function FileDescriptor(). Note: Create unlinked descriptors is going to go away. Please use get/find descriptors from generated code or query the descriptor_pool.\n",
      "  DESCRIPTOR = _descriptor.FileDescriptor(\n",
      "c:\\Users\\ssuro\\anaconda3\\lib\\site-packages\\tensorboard\\compat\\proto\\tensor_shape_pb2.py:36: DeprecationWarning: Call to deprecated create function FieldDescriptor(). Note: Create unlinked descriptors is going to go away. Please use get/find descriptors from generated code or query the descriptor_pool.\n",
      "  _descriptor.FieldDescriptor(\n",
      "c:\\Users\\ssuro\\anaconda3\\lib\\site-packages\\tensorboard\\compat\\proto\\tensor_shape_pb2.py:29: DeprecationWarning: Call to deprecated create function Descriptor(). Note: Create unlinked descriptors is going to go away. Please use get/find descriptors from generated code or query the descriptor_pool.\n",
      "  _TENSORSHAPEPROTO_DIM = _descriptor.Descriptor(\n",
      "c:\\Users\\ssuro\\anaconda3\\lib\\site-packages\\tensorboard\\compat\\proto\\types_pb2.py:19: DeprecationWarning: Call to deprecated create function FileDescriptor(). Note: Create unlinked descriptors is going to go away. Please use get/find descriptors from generated code or query the descriptor_pool.\n",
      "  DESCRIPTOR = _descriptor.FileDescriptor(\n",
      "c:\\Users\\ssuro\\anaconda3\\lib\\site-packages\\tensorboard\\compat\\proto\\types_pb2.py:33: DeprecationWarning: Call to deprecated create function EnumValueDescriptor(). Note: Create unlinked descriptors is going to go away. Please use get/find descriptors from generated code or query the descriptor_pool.\n",
      "  _descriptor.EnumValueDescriptor(\n",
      "c:\\Users\\ssuro\\anaconda3\\lib\\site-packages\\tensorboard\\compat\\proto\\types_pb2.py:27: DeprecationWarning: Call to deprecated create function EnumDescriptor(). Note: Create unlinked descriptors is going to go away. Please use get/find descriptors from generated code or query the descriptor_pool.\n",
      "  _DATATYPE = _descriptor.EnumDescriptor(\n",
      "c:\\Users\\ssuro\\anaconda3\\lib\\site-packages\\tensorboard\\compat\\proto\\types_pb2.py:287: DeprecationWarning: Call to deprecated create function FieldDescriptor(). Note: Create unlinked descriptors is going to go away. Please use get/find descriptors from generated code or query the descriptor_pool.\n",
      "  _descriptor.FieldDescriptor(\n",
      "c:\\Users\\ssuro\\anaconda3\\lib\\site-packages\\tensorboard\\compat\\proto\\types_pb2.py:280: DeprecationWarning: Call to deprecated create function Descriptor(). Note: Create unlinked descriptors is going to go away. Please use get/find descriptors from generated code or query the descriptor_pool.\n",
      "  _SERIALIZEDDTYPE = _descriptor.Descriptor(\n",
      "c:\\Users\\ssuro\\anaconda3\\lib\\site-packages\\tensorboard\\compat\\proto\\resource_handle_pb2.py:20: DeprecationWarning: Call to deprecated create function FileDescriptor(). Note: Create unlinked descriptors is going to go away. Please use get/find descriptors from generated code or query the descriptor_pool.\n",
      "  DESCRIPTOR = _descriptor.FileDescriptor(\n",
      "c:\\Users\\ssuro\\anaconda3\\lib\\site-packages\\tensorboard\\compat\\proto\\resource_handle_pb2.py:39: DeprecationWarning: Call to deprecated create function FieldDescriptor(). Note: Create unlinked descriptors is going to go away. Please use get/find descriptors from generated code or query the descriptor_pool.\n",
      "  _descriptor.FieldDescriptor(\n",
      "c:\\Users\\ssuro\\anaconda3\\lib\\site-packages\\tensorboard\\compat\\proto\\resource_handle_pb2.py:32: DeprecationWarning: Call to deprecated create function Descriptor(). Note: Create unlinked descriptors is going to go away. Please use get/find descriptors from generated code or query the descriptor_pool.\n",
      "  _RESOURCEHANDLEPROTO_DTYPEANDSHAPE = _descriptor.Descriptor(\n",
      "c:\\Users\\ssuro\\anaconda3\\lib\\site-packages\\tensorboard\\compat\\proto\\tensor_pb2.py:21: DeprecationWarning: Call to deprecated create function FileDescriptor(). Note: Create unlinked descriptors is going to go away. Please use get/find descriptors from generated code or query the descriptor_pool.\n",
      "  DESCRIPTOR = _descriptor.FileDescriptor(\n",
      "c:\\Users\\ssuro\\anaconda3\\lib\\site-packages\\tensorboard\\compat\\proto\\tensor_pb2.py:40: DeprecationWarning: Call to deprecated create function FieldDescriptor(). Note: Create unlinked descriptors is going to go away. Please use get/find descriptors from generated code or query the descriptor_pool.\n",
      "  _descriptor.FieldDescriptor(\n",
      "c:\\Users\\ssuro\\anaconda3\\lib\\site-packages\\tensorboard\\compat\\proto\\tensor_pb2.py:33: DeprecationWarning: Call to deprecated create function Descriptor(). Note: Create unlinked descriptors is going to go away. Please use get/find descriptors from generated code or query the descriptor_pool.\n",
      "  _TENSORPROTO = _descriptor.Descriptor(\n",
      "c:\\Users\\ssuro\\anaconda3\\lib\\site-packages\\tensorboard\\compat\\proto\\summary_pb2.py:20: DeprecationWarning: Call to deprecated create function FileDescriptor(). Note: Create unlinked descriptors is going to go away. Please use get/find descriptors from generated code or query the descriptor_pool.\n",
      "  DESCRIPTOR = _descriptor.FileDescriptor(\n",
      "c:\\Users\\ssuro\\anaconda3\\lib\\site-packages\\tensorboard\\compat\\proto\\summary_pb2.py:35: DeprecationWarning: Call to deprecated create function EnumValueDescriptor(). Note: Create unlinked descriptors is going to go away. Please use get/find descriptors from generated code or query the descriptor_pool.\n",
      "  _descriptor.EnumValueDescriptor(\n",
      "c:\\Users\\ssuro\\anaconda3\\lib\\site-packages\\tensorboard\\compat\\proto\\summary_pb2.py:29: DeprecationWarning: Call to deprecated create function EnumDescriptor(). Note: Create unlinked descriptors is going to go away. Please use get/find descriptors from generated code or query the descriptor_pool.\n",
      "  _DATACLASS = _descriptor.EnumDescriptor(\n",
      "c:\\Users\\ssuro\\anaconda3\\lib\\site-packages\\tensorboard\\compat\\proto\\summary_pb2.py:74: DeprecationWarning: Call to deprecated create function FieldDescriptor(). Note: Create unlinked descriptors is going to go away. Please use get/find descriptors from generated code or query the descriptor_pool.\n",
      "  _descriptor.FieldDescriptor(\n",
      "c:\\Users\\ssuro\\anaconda3\\lib\\site-packages\\tensorboard\\compat\\proto\\summary_pb2.py:67: DeprecationWarning: Call to deprecated create function Descriptor(). Note: Create unlinked descriptors is going to go away. Please use get/find descriptors from generated code or query the descriptor_pool.\n",
      "  _SUMMARYDESCRIPTION = _descriptor.Descriptor(\n"
     ]
    }
   ],
   "source": [
    "from stable_baselines3.common.vec_env import VecVideoRecorder, DummyVecEnv\n",
    "from stable_baselines3 import SAC, HerReplayBuffer\n",
    "from environments import *\n",
    "\n",
    "import torch\n",
    "import numpy as np\n",
    "import gym\n",
    "import imageio"
   ]
  },
  {
   "cell_type": "code",
   "execution_count": 2,
   "id": "5b36970d",
   "metadata": {},
   "outputs": [],
   "source": [
    "env_id = 'G1Dist-v0'\n",
    "video_folder = 'renders'\n",
    "video_length = 500"
   ]
  },
  {
   "cell_type": "code",
   "execution_count": 3,
   "id": "7d2b9a3d",
   "metadata": {},
   "outputs": [],
   "source": [
    "model = SAC.load(\"trained_models/g1-forward/sac\")"
   ]
  },
  {
   "cell_type": "code",
   "execution_count": 4,
   "id": "30641f5b",
   "metadata": {},
   "outputs": [
    {
     "name": "stderr",
     "output_type": "stream",
     "text": [
      "c:\\Users\\ssuro\\anaconda3\\lib\\site-packages\\gym\\core.py:317: DeprecationWarning: \u001b[33mWARN: Initializing wrapper in old step API which returns one bool instead of two. It is recommended to set `new_step_api=True` to use new step API. This will be the default behaviour in future.\u001b[0m\n",
      "  deprecation(\n",
      "c:\\Users\\ssuro\\anaconda3\\lib\\site-packages\\gym\\wrappers\\step_api_compatibility.py:39: DeprecationWarning: \u001b[33mWARN: Initializing environment in old step API which returns one bool instead of two. It is recommended to set `new_step_api=True` to use new step API. This will be the default behaviour in future.\u001b[0m\n",
      "  deprecation(\n"
     ]
    }
   ],
   "source": [
    "env = gym.make(\"G1Dist-v1\")"
   ]
  },
  {
   "cell_type": "code",
   "execution_count": 5,
   "id": "3825dac7",
   "metadata": {},
   "outputs": [],
   "source": [
    "images = []"
   ]
  },
  {
   "cell_type": "code",
   "execution_count": 6,
   "id": "2f92e596",
   "metadata": {},
   "outputs": [
    {
     "name": "stderr",
     "output_type": "stream",
     "text": [
      "c:\\Users\\ssuro\\anaconda3\\lib\\site-packages\\gym\\core.py:43: DeprecationWarning: \u001b[33mWARN: The argument mode in render method is deprecated; use render_mode during environment initialization instead.\n",
      "See here for more information: https://www.gymlibrary.ml/content/api/\u001b[0m\n",
      "  deprecation(\n"
     ]
    }
   ],
   "source": [
    "obs = env.reset()\n",
    "img = env.render(mode='rgb_array')\n",
    "\n",
    "for i in range(video_length + 1):\n",
    "  images.append(img)\n",
    "  action = model.predict(obs)\n",
    "  obs, _, _, _ = env.step(action[0])\n",
    "  img = env.render(mode='rgb_array')\n",
    "\n",
    "env.close()"
   ]
  },
  {
   "cell_type": "code",
   "execution_count": 7,
   "id": "dba5707a",
   "metadata": {},
   "outputs": [],
   "source": [
    "imageio.mimsave(\n",
    "    'renders/sac.gif', \n",
    "    [np.array(img) for i, img in enumerate(images) if i%2 == 0], \n",
    "    fps=29,\n",
    ")"
   ]
  }
 ],
 "metadata": {
  "kernelspec": {
   "display_name": "Python 3.9.12 ('base')",
   "language": "python",
   "name": "python3"
  },
  "language_info": {
   "codemirror_mode": {
    "name": "ipython",
    "version": 3
   },
   "file_extension": ".py",
   "mimetype": "text/x-python",
   "name": "python",
   "nbconvert_exporter": "python",
   "pygments_lexer": "ipython3",
   "version": "3.9.12"
  },
  "vscode": {
   "interpreter": {
    "hash": "f04677aed7c6774a637d7ce7b6fc8d80c8b672be82d736b4b31c3119a6d1d35d"
   }
  }
 },
 "nbformat": 4,
 "nbformat_minor": 5
}
