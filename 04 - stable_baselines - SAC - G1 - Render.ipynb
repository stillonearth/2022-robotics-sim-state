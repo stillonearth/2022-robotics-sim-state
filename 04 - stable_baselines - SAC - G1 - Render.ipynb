{
 "cells": [
  {
   "cell_type": "code",
   "execution_count": null,
   "id": "146a73e6",
   "metadata": {},
   "outputs": [],
   "source": [
    "from stable_baselines3.common.vec_env import VecVideoRecorder, DummyVecEnv\n",
    "from stable_baselines3 import SAC, HerReplayBuffer\n",
    "from environments import *\n",
    "\n",
    "import torch\n",
    "import numpy as np\n",
    "import gym\n",
    "import imageio"
   ]
  },
  {
   "cell_type": "code",
   "execution_count": null,
   "id": "5b36970d",
   "metadata": {},
   "outputs": [],
   "source": [
    "env_id = 'G1Dist-v1'\n",
    "video_folder = 'renders'\n",
    "video_length = 2000"
   ]
  },
  {
   "cell_type": "code",
   "execution_count": null,
   "id": "7d2b9a3d",
   "metadata": {},
   "outputs": [],
   "source": [
    "model = SAC.load(\"trained_models/g1-forward/sac\")"
   ]
  },
  {
   "cell_type": "code",
   "execution_count": null,
   "id": "30641f5b",
   "metadata": {},
   "outputs": [],
   "source": [
    "env = DummyVecEnv([lambda: gym.make(env_id)])\n",
    "env.render_mode = 'rgb_array'\n",
    "\n",
    "env = VecVideoRecorder(env, video_folder,\n",
    "                       record_video_trigger=lambda x: x == 0, video_length=video_length,\n",
    "                       name_prefix=f\"random-agent-{env_id}\")\n"
   ]
  },
  {
   "cell_type": "code",
   "execution_count": null,
   "id": "3825dac7",
   "metadata": {},
   "outputs": [],
   "source": [
    "images = []"
   ]
  },
  {
   "cell_type": "code",
   "execution_count": null,
   "id": "2f92e596",
   "metadata": {},
   "outputs": [],
   "source": [
    "obs = env.reset()\n",
    "# img = env.render(mode='rgb_array')\n",
    "\n",
    "for i in range(video_length + 1):\n",
    "  # images.append(img)\n",
    "  action = model.predict(obs)\n",
    "  obs, _, _, _ = env.step(action[0])\n",
    "  img = env.render()\n",
    "\n",
    "env.close()"
   ]
  },
  {
   "cell_type": "code",
   "execution_count": null,
   "id": "dba5707a",
   "metadata": {},
   "outputs": [],
   "source": [
    "imageio.mimsave(\n",
    "    'renders/sac+5e7.gif', \n",
    "    [np.array(img) for i, img in enumerate(images) if i%2 == 0], \n",
    "    fps=29,\n",
    ")"
   ]
  }
 ],
 "metadata": {
  "kernelspec": {
   "display_name": "Python 3.9.12 ('base')",
   "language": "python",
   "name": "python3"
  },
  "language_info": {
   "codemirror_mode": {
    "name": "ipython",
    "version": 3
   },
   "file_extension": ".py",
   "mimetype": "text/x-python",
   "name": "python",
   "nbconvert_exporter": "python",
   "pygments_lexer": "ipython3",
   "version": "3.9.12"
  },
  "vscode": {
   "interpreter": {
    "hash": "f04677aed7c6774a637d7ce7b6fc8d80c8b672be82d736b4b31c3119a6d1d35d"
   }
  }
 },
 "nbformat": 4,
 "nbformat_minor": 5
}
