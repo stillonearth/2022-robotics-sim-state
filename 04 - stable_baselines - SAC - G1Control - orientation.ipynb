{
 "cells": [
  {
   "cell_type": "code",
   "execution_count": 1,
   "metadata": {},
   "outputs": [
    {
     "name": "stderr",
     "output_type": "stream",
     "text": [
      "/home/user/anaconda3/envs/torch/lib/python3.10/site-packages/tqdm/auto.py:22: TqdmWarning: IProgress not found. Please update jupyter and ipywidgets. See https://ipywidgets.readthedocs.io/en/stable/user_install.html\n",
      "  from .autonotebook import tqdm as notebook_tqdm\n",
      "/home/user/anaconda3/envs/torch/lib/python3.10/site-packages/torch/utils/tensorboard/__init__.py:4: DeprecationWarning: distutils Version classes are deprecated. Use packaging.version instead.\n",
      "  if not hasattr(tensorboard, \"__version__\") or LooseVersion(\n",
      "/home/user/anaconda3/envs/torch/lib/python3.10/site-packages/stable_baselines3/common/cmd_util.py:5: FutureWarning: Module ``common.cmd_util`` has been renamed to ``common.env_util`` and will be removed in the future.\n",
      "  warnings.warn(\n"
     ]
    }
   ],
   "source": [
    "import gym\n",
    "import numpy as np\n",
    "import torch\n",
    "\n",
    "from environments import *\n",
    "\n",
    "from stable_baselines3 import SAC, HerReplayBuffer\n",
    "from stable_baselines3.common.cmd_util import make_vec_env"
   ]
  },
  {
   "cell_type": "code",
   "execution_count": 2,
   "metadata": {},
   "outputs": [
    {
     "name": "stderr",
     "output_type": "stream",
     "text": [
      "/home/user/anaconda3/envs/torch/lib/python3.10/site-packages/gym/core.py:329: DeprecationWarning: \u001b[33mWARN: Initializing wrapper in old step API which returns one bool instead of two. It is recommended to set `new_step_api=True` to use new step API. This will be the default behaviour in future.\u001b[0m\n",
      "  deprecation(\n",
      "/home/user/anaconda3/envs/torch/lib/python3.10/site-packages/gym/wrappers/step_api_compatibility.py:39: DeprecationWarning: \u001b[33mWARN: Initializing environment in old step API which returns one bool instead of two. It is recommended to set `new_step_api=True` to use new step API. This will be the default behaviour in future.\u001b[0m\n",
      "  deprecation(\n"
     ]
    }
   ],
   "source": [
    "env = make_vec_env(\"G1ControlEnv-v1\", 32, env_kwargs=dict(\n",
    "    mode='orientation',\n",
    "))                "
   ]
  },
  {
   "cell_type": "code",
   "execution_count": 3,
   "metadata": {},
   "outputs": [
    {
     "name": "stdout",
     "output_type": "stream",
     "text": [
      "Using cuda device\n"
     ]
    }
   ],
   "source": [
    "model = SAC(\n",
    "    \"MlpPolicy\", \n",
    "    env, \n",
    "    verbose=1,\n",
    "    batch_size=4096,\n",
    "    gradient_steps=2,\n",
    "    buffer_size=1000000,\n",
    "    policy_kwargs=dict(        \n",
    "        net_arch=[512, 512, 512, 512], \n",
    "        activation_fn=torch.nn.ELU,\n",
    "        n_critics=3,\n",
    "    ),\n",
    "    tensorboard_log=\"./logs/sac/\"\n",
    ")"
   ]
  },
  {
   "cell_type": "code",
   "execution_count": null,
   "metadata": {
    "tags": []
   },
   "outputs": [
    {
     "name": "stdout",
     "output_type": "stream",
     "text": [
      "Logging to ./logs/sac/g1-control-orientation_0\n",
      "---------------------------------\n",
      "| rollout/           |          |\n",
      "|    ep_len_mean     | 104      |\n",
      "|    ep_rew_mean     | -293     |\n",
      "| time/              |          |\n",
      "|    episodes        | 100      |\n",
      "|    fps             | 204      |\n",
      "|    time_elapsed    | 62       |\n",
      "|    total_timesteps | 12864    |\n",
      "| train/             |          |\n",
      "|    actor_loss      | -23.1    |\n",
      "|    critic_loss     | 1.69     |\n",
      "|    ent_coef        | 0.789    |\n",
      "|    ent_coef_loss   | -4.66    |\n",
      "|    learning_rate   | 0.0003   |\n",
      "|    n_updates       | 796      |\n",
      "---------------------------------\n",
      "---------------------------------\n",
      "| rollout/           |          |\n",
      "|    ep_len_mean     | 116      |\n",
      "|    ep_rew_mean     | -274     |\n",
      "| time/              |          |\n",
      "|    episodes        | 200      |\n",
      "|    fps             | 237      |\n",
      "|    time_elapsed    | 102      |\n",
      "|    total_timesteps | 24288    |\n",
      "| train/             |          |\n",
      "|    actor_loss      | -29.5    |\n",
      "|    critic_loss     | 2.44     |\n",
      "|    ent_coef        | 0.638    |\n",
      "|    ent_coef_loss   | -8.62    |\n",
      "|    learning_rate   | 0.0003   |\n",
      "|    n_updates       | 1510     |\n",
      "---------------------------------\n",
      "---------------------------------\n",
      "| rollout/           |          |\n",
      "|    ep_len_mean     | 142      |\n",
      "|    ep_rew_mean     | -281     |\n",
      "| time/              |          |\n",
      "|    episodes        | 300      |\n",
      "|    fps             | 255      |\n",
      "|    time_elapsed    | 152      |\n",
      "|    total_timesteps | 38976    |\n",
      "| train/             |          |\n",
      "|    actor_loss      | -33.4    |\n",
      "|    critic_loss     | 2.97     |\n",
      "|    ent_coef        | 0.487    |\n",
      "|    ent_coef_loss   | -13.5    |\n",
      "|    learning_rate   | 0.0003   |\n",
      "|    n_updates       | 2428     |\n",
      "---------------------------------\n",
      "---------------------------------\n",
      "| rollout/           |          |\n",
      "|    ep_len_mean     | 148      |\n",
      "|    ep_rew_mean     | -286     |\n",
      "| time/              |          |\n",
      "|    episodes        | 400      |\n",
      "|    fps             | 263      |\n",
      "|    time_elapsed    | 205      |\n",
      "|    total_timesteps | 54240    |\n",
      "| train/             |          |\n",
      "|    actor_loss      | -31.9    |\n",
      "|    critic_loss     | 2.78     |\n",
      "|    ent_coef        | 0.369    |\n",
      "|    ent_coef_loss   | -18.2    |\n",
      "|    learning_rate   | 0.0003   |\n",
      "|    n_updates       | 3382     |\n",
      "---------------------------------\n",
      "---------------------------------\n",
      "| rollout/           |          |\n",
      "|    ep_len_mean     | 191      |\n",
      "|    ep_rew_mean     | -315     |\n",
      "| time/              |          |\n",
      "|    episodes        | 500      |\n",
      "|    fps             | 270      |\n",
      "|    time_elapsed    | 277      |\n",
      "|    total_timesteps | 75040    |\n",
      "| train/             |          |\n",
      "|    actor_loss      | -27.2    |\n",
      "|    critic_loss     | 3.23     |\n",
      "|    ent_coef        | 0.253    |\n",
      "|    ent_coef_loss   | -23.7    |\n",
      "|    learning_rate   | 0.0003   |\n",
      "|    n_updates       | 4682     |\n",
      "---------------------------------\n",
      "---------------------------------\n",
      "| rollout/           |          |\n",
      "|    ep_len_mean     | 233      |\n",
      "|    ep_rew_mean     | -351     |\n",
      "| time/              |          |\n",
      "|    episodes        | 600      |\n",
      "|    fps             | 275      |\n",
      "|    time_elapsed    | 361      |\n",
      "|    total_timesteps | 99424    |\n",
      "| train/             |          |\n",
      "|    actor_loss      | -17.9    |\n",
      "|    critic_loss     | 3.04     |\n",
      "|    ent_coef        | 0.164    |\n",
      "|    ent_coef_loss   | -27.5    |\n",
      "|    learning_rate   | 0.0003   |\n",
      "|    n_updates       | 6206     |\n",
      "---------------------------------\n",
      "---------------------------------\n",
      "| rollout/           |          |\n",
      "|    ep_len_mean     | 315      |\n",
      "|    ep_rew_mean     | -391     |\n",
      "| time/              |          |\n",
      "|    episodes        | 700      |\n",
      "|    fps             | 278      |\n",
      "|    time_elapsed    | 468      |\n",
      "|    total_timesteps | 130432   |\n",
      "| train/             |          |\n",
      "|    actor_loss      | -6.21    |\n",
      "|    critic_loss     | 2.87     |\n",
      "|    ent_coef        | 0.0958   |\n",
      "|    ent_coef_loss   | -29.9    |\n",
      "|    learning_rate   | 0.0003   |\n",
      "|    n_updates       | 8144     |\n",
      "---------------------------------\n"
     ]
    }
   ],
   "source": [
    "model.learn(\n",
    "    total_timesteps=int(2e6), \n",
    "    log_interval=100,\n",
    "    tb_log_name='g1-control-orientation',\n",
    "    reset_num_timesteps=False,\n",
    ")"
   ]
  },
  {
   "cell_type": "code",
   "execution_count": null,
   "metadata": {},
   "outputs": [],
   "source": [
    "model.save(\"trained_models/g1-control/orientation\")"
   ]
  },
  {
   "cell_type": "code",
   "execution_count": null,
   "metadata": {},
   "outputs": [],
   "source": []
  }
 ],
 "metadata": {
  "kernelspec": {
   "display_name": "Python 3 (ipykernel)",
   "language": "python",
   "name": "python3"
  },
  "language_info": {
   "codemirror_mode": {
    "name": "ipython",
    "version": 3
   },
   "file_extension": ".py",
   "mimetype": "text/x-python",
   "name": "python",
   "nbconvert_exporter": "python",
   "pygments_lexer": "ipython3",
   "version": "3.10.6"
  },
  "vscode": {
   "interpreter": {
    "hash": "82ea6adb180b12ed72836e614d5d57295654ca2a9780d621124b81b6a9baa809"
   }
  }
 },
 "nbformat": 4,
 "nbformat_minor": 4
}
