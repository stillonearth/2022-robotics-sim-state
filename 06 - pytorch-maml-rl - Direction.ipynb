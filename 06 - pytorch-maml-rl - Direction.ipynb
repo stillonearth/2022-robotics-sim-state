{
 "cells": [
  {
   "cell_type": "code",
   "execution_count": 1,
   "metadata": {},
   "outputs": [],
   "source": [
    "import sys\n",
    "sys.path.insert(1, './pytorch-maml-rl')"
   ]
  },
  {
   "cell_type": "code",
   "execution_count": 2,
   "metadata": {},
   "outputs": [],
   "source": [
    "from environments import *"
   ]
  },
  {
   "cell_type": "code",
   "execution_count": 3,
   "metadata": {},
   "outputs": [],
   "source": [
    "import train"
   ]
  },
  {
   "cell_type": "code",
   "execution_count": 4,
   "metadata": {},
   "outputs": [],
   "source": [
    "from collections import namedtuple\n",
    "\n",
    "Config = namedtuple('Config', ['config', 'output_folder', 'seed', 'num_workers', 'device'])\n",
    "config = Config(\n",
    "    config='./pytorch-maml-rl/configs/maml/g1-dir.yaml',\n",
    "    output_folder='./trained_models/g1-maml/',\n",
    "    seed=0,\n",
    "    num_workers= 16,\n",
    "    device='cuda',\n",
    ")"
   ]
  },
  {
   "cell_type": "code",
   "execution_count": 5,
   "metadata": {},
   "outputs": [
    {
     "name": "stdout",
     "output_type": "stream",
     "text": [
      "{'env-name': 'G1GoalDist-v1', 'gamma': 0.99, 'gae-lambda': 1.0, 'first-order': False, 'hidden-sizes': [512, 512], 'nonlinearity': 'tanh', 'fast-batch-size': 20, 'num-steps': 1, 'fast-lr': 0.1, 'num-batches': 500, 'meta-batch-size': 40, 'max-kl': 0.01, 'cg-iters': 10, 'cg-damping': 1e-05, 'ls-max-steps': 15, 'ls-backtrack-ratio': 0.8}\n"
     ]
    },
    {
     "name": "stderr",
     "output_type": "stream",
     "text": [
      "c:\\Users\\ssuro\\anaconda3\\envs\\torch\\lib\\site-packages\\gym\\core.py:329: DeprecationWarning: \u001b[33mWARN: Initializing wrapper in old step API which returns one bool instead of two. It is recommended to set `new_step_api=True` to use new step API. This will be the default behaviour in future.\u001b[0m\n",
      "  deprecation(\n",
      "c:\\Users\\ssuro\\anaconda3\\envs\\torch\\lib\\site-packages\\gym\\wrappers\\step_api_compatibility.py:39: DeprecationWarning: \u001b[33mWARN: Initializing environment in old step API which returns one bool instead of two. It is recommended to set `new_step_api=True` to use new step API. This will be the default behaviour in future.\u001b[0m\n",
      "  deprecation(\n",
      "c:\\Users\\ssuro\\anaconda3\\envs\\torch\\lib\\site-packages\\gym\\core.py:268: DeprecationWarning: \u001b[33mWARN: Function `env.seed(seed)` is marked as deprecated and will be removed in the future. Please use `env.reset(seed=seed)` instead.\u001b[0m\n",
      "  deprecation(\n",
      "c:\\Users\\ssuro\\anaconda3\\envs\\torch\\lib\\site-packages\\gym\\vector\\vector_env.py:56: DeprecationWarning: \u001b[33mWARN: Initializing vector env in old step API which returns one bool array instead of two. It is recommended to set `new_step_api=True` to use new step API. This will be the default behaviour in future.\u001b[0m\n",
      "  deprecation(\n",
      "c:\\Users\\ssuro\\anaconda3\\envs\\torch\\lib\\site-packages\\gym\\vector\\vector_env.py:233: DeprecationWarning: \u001b[33mWARN: Function `env.seed(seed)` is marked as deprecated and will be removed in the future. Please use `env.reset(seed=seed) instead in VectorEnvs.\u001b[0m\n",
      "  deprecation(\n"
     ]
    },
    {
     "ename": "KeyboardInterrupt",
     "evalue": "",
     "output_type": "error",
     "traceback": [
      "\u001b[1;31m---------------------------------------------------------------------------\u001b[0m",
      "\u001b[1;31mKeyboardInterrupt\u001b[0m                         Traceback (most recent call last)",
      "Cell \u001b[1;32mIn [5], line 1\u001b[0m\n\u001b[1;32m----> 1\u001b[0m \u001b[43mtrain\u001b[49m\u001b[38;5;241;43m.\u001b[39;49m\u001b[43mmain\u001b[49m\u001b[43m(\u001b[49m\u001b[43mconfig\u001b[49m\u001b[43m)\u001b[49m\n",
      "File \u001b[1;32mc:\\Users\\ssuro\\git\\continuous_control-unitree-g1\\./pytorch-maml-rl\\train.py:53\u001b[0m, in \u001b[0;36mmain\u001b[1;34m(args)\u001b[0m\n\u001b[0;32m     49\u001b[0m baseline \u001b[39m=\u001b[39m LinearFeatureBaseline(get_input_size(env))\n\u001b[0;32m     51\u001b[0m \u001b[39m# Sampler\u001b[39;00m\n\u001b[0;32m     52\u001b[0m sampler \u001b[39m=\u001b[39m MultiTaskSampler(config[\u001b[39m'\u001b[39m\u001b[39menv-name\u001b[39m\u001b[39m'\u001b[39m],\n\u001b[1;32m---> 53\u001b[0m                            env_kwargs\u001b[39m=\u001b[39mconfig\u001b[39m.\u001b[39mget(\u001b[39m'\u001b[39m\u001b[39menv-kwargs\u001b[39m\u001b[39m'\u001b[39m, {}),\n\u001b[0;32m     54\u001b[0m                            batch_size\u001b[39m=\u001b[39mconfig[\u001b[39m'\u001b[39m\u001b[39mfast-batch-size\u001b[39m\u001b[39m'\u001b[39m],\n\u001b[0;32m     55\u001b[0m                            policy\u001b[39m=\u001b[39mpolicy,\n\u001b[0;32m     56\u001b[0m                            baseline\u001b[39m=\u001b[39mbaseline,\n\u001b[0;32m     57\u001b[0m                            env\u001b[39m=\u001b[39menv,\n\u001b[0;32m     58\u001b[0m                            seed\u001b[39m=\u001b[39margs\u001b[39m.\u001b[39mseed,\n\u001b[0;32m     59\u001b[0m                            num_workers\u001b[39m=\u001b[39margs\u001b[39m.\u001b[39mnum_workers)\n\u001b[0;32m     61\u001b[0m metalearner \u001b[39m=\u001b[39m MAMLTRPO(policy,\n\u001b[0;32m     62\u001b[0m                        fast_lr\u001b[39m=\u001b[39mconfig[\u001b[39m'\u001b[39m\u001b[39mfast-lr\u001b[39m\u001b[39m'\u001b[39m],\n\u001b[0;32m     63\u001b[0m                        first_order\u001b[39m=\u001b[39mconfig[\u001b[39m'\u001b[39m\u001b[39mfirst-order\u001b[39m\u001b[39m'\u001b[39m],\n\u001b[0;32m     64\u001b[0m                        device\u001b[39m=\u001b[39margs\u001b[39m.\u001b[39mdevice)\n\u001b[0;32m     66\u001b[0m num_iterations \u001b[39m=\u001b[39m \u001b[39m0\u001b[39m\n",
      "File \u001b[1;32mc:\\Users\\ssuro\\git\\continuous_control-unitree-g1\\./pytorch-maml-rl\\maml_rl\\samplers\\multi_task_sampler.py:91\u001b[0m, in \u001b[0;36mMultiTaskSampler.__init__\u001b[1;34m(self, env_name, env_kwargs, batch_size, policy, baseline, env, seed, num_workers)\u001b[0m\n\u001b[0;32m     88\u001b[0m \u001b[39mself\u001b[39m\u001b[39m.\u001b[39mvalid_episodes_queue \u001b[39m=\u001b[39m mp\u001b[39m.\u001b[39mQueue()\n\u001b[0;32m     89\u001b[0m policy_lock \u001b[39m=\u001b[39m mp\u001b[39m.\u001b[39mLock()\n\u001b[1;32m---> 91\u001b[0m \u001b[39mself\u001b[39m\u001b[39m.\u001b[39mworkers \u001b[39m=\u001b[39m [SamplerWorker(index,\n\u001b[0;32m     92\u001b[0m                               env_name,\n\u001b[0;32m     93\u001b[0m                               env_kwargs,\n\u001b[0;32m     94\u001b[0m                               batch_size,\n\u001b[0;32m     95\u001b[0m                               \u001b[39mself\u001b[39m\u001b[39m.\u001b[39menv\u001b[39m.\u001b[39mobservation_space,\n\u001b[0;32m     96\u001b[0m                               \u001b[39mself\u001b[39m\u001b[39m.\u001b[39menv\u001b[39m.\u001b[39maction_space,\n\u001b[0;32m     97\u001b[0m                               \u001b[39mself\u001b[39m\u001b[39m.\u001b[39mpolicy,\n\u001b[0;32m     98\u001b[0m                               deepcopy(baseline),\n\u001b[0;32m     99\u001b[0m                               \u001b[39mself\u001b[39m\u001b[39m.\u001b[39mseed,\n\u001b[0;32m    100\u001b[0m                               \u001b[39mself\u001b[39m\u001b[39m.\u001b[39mtask_queue,\n\u001b[0;32m    101\u001b[0m                               \u001b[39mself\u001b[39m\u001b[39m.\u001b[39mtrain_episodes_queue,\n\u001b[0;32m    102\u001b[0m                               \u001b[39mself\u001b[39m\u001b[39m.\u001b[39mvalid_episodes_queue,\n\u001b[0;32m    103\u001b[0m                               policy_lock)\n\u001b[0;32m    104\u001b[0m     \u001b[39mfor\u001b[39;00m index \u001b[39min\u001b[39;00m \u001b[39mrange\u001b[39m(num_workers)]\n\u001b[0;32m    106\u001b[0m \u001b[39mfor\u001b[39;00m worker \u001b[39min\u001b[39;00m \u001b[39mself\u001b[39m\u001b[39m.\u001b[39mworkers:\n\u001b[0;32m    107\u001b[0m     worker\u001b[39m.\u001b[39mdaemon \u001b[39m=\u001b[39m \u001b[39mTrue\u001b[39;00m\n",
      "File \u001b[1;32mc:\\Users\\ssuro\\git\\continuous_control-unitree-g1\\./pytorch-maml-rl\\maml_rl\\samplers\\multi_task_sampler.py:91\u001b[0m, in \u001b[0;36m<listcomp>\u001b[1;34m(.0)\u001b[0m\n\u001b[0;32m     88\u001b[0m \u001b[39mself\u001b[39m\u001b[39m.\u001b[39mvalid_episodes_queue \u001b[39m=\u001b[39m mp\u001b[39m.\u001b[39mQueue()\n\u001b[0;32m     89\u001b[0m policy_lock \u001b[39m=\u001b[39m mp\u001b[39m.\u001b[39mLock()\n\u001b[1;32m---> 91\u001b[0m \u001b[39mself\u001b[39m\u001b[39m.\u001b[39mworkers \u001b[39m=\u001b[39m [SamplerWorker(index,\n\u001b[0;32m     92\u001b[0m                               env_name,\n\u001b[0;32m     93\u001b[0m                               env_kwargs,\n\u001b[0;32m     94\u001b[0m                               batch_size,\n\u001b[0;32m     95\u001b[0m                               \u001b[39mself\u001b[39;49m\u001b[39m.\u001b[39;49menv\u001b[39m.\u001b[39;49mobservation_space,\n\u001b[0;32m     96\u001b[0m                               \u001b[39mself\u001b[39;49m\u001b[39m.\u001b[39;49menv\u001b[39m.\u001b[39;49maction_space,\n\u001b[0;32m     97\u001b[0m                               \u001b[39mself\u001b[39;49m\u001b[39m.\u001b[39;49mpolicy,\n\u001b[0;32m     98\u001b[0m                               deepcopy(baseline),\n\u001b[0;32m     99\u001b[0m                               \u001b[39mself\u001b[39;49m\u001b[39m.\u001b[39;49mseed,\n\u001b[0;32m    100\u001b[0m                               \u001b[39mself\u001b[39;49m\u001b[39m.\u001b[39;49mtask_queue,\n\u001b[0;32m    101\u001b[0m                               \u001b[39mself\u001b[39;49m\u001b[39m.\u001b[39;49mtrain_episodes_queue,\n\u001b[0;32m    102\u001b[0m                               \u001b[39mself\u001b[39;49m\u001b[39m.\u001b[39;49mvalid_episodes_queue,\n\u001b[0;32m    103\u001b[0m                               policy_lock)\n\u001b[0;32m    104\u001b[0m     \u001b[39mfor\u001b[39;00m index \u001b[39min\u001b[39;00m \u001b[39mrange\u001b[39m(num_workers)]\n\u001b[0;32m    106\u001b[0m \u001b[39mfor\u001b[39;00m worker \u001b[39min\u001b[39;00m \u001b[39mself\u001b[39m\u001b[39m.\u001b[39mworkers:\n\u001b[0;32m    107\u001b[0m     worker\u001b[39m.\u001b[39mdaemon \u001b[39m=\u001b[39m \u001b[39mTrue\u001b[39;00m\n",
      "File \u001b[1;32mc:\\Users\\ssuro\\git\\continuous_control-unitree-g1\\./pytorch-maml-rl\\maml_rl\\samplers\\multi_task_sampler.py:232\u001b[0m, in \u001b[0;36mSamplerWorker.__init__\u001b[1;34m(self, index, env_name, env_kwargs, batch_size, observation_space, action_space, policy, baseline, seed, task_queue, train_queue, valid_queue, policy_lock)\u001b[0m\n\u001b[0;32m    228\u001b[0m \u001b[39msuper\u001b[39m(SamplerWorker, \u001b[39mself\u001b[39m)\u001b[39m.\u001b[39m\u001b[39m__init__\u001b[39m()\n\u001b[0;32m    230\u001b[0m env_fns \u001b[39m=\u001b[39m [make_env(env_name, env_kwargs\u001b[39m=\u001b[39menv_kwargs)\n\u001b[0;32m    231\u001b[0m            \u001b[39mfor\u001b[39;00m _ \u001b[39min\u001b[39;00m \u001b[39mrange\u001b[39m(batch_size)]\n\u001b[1;32m--> 232\u001b[0m \u001b[39mself\u001b[39m\u001b[39m.\u001b[39menvs \u001b[39m=\u001b[39m SyncVectorEnv(env_fns,\n\u001b[0;32m    233\u001b[0m                           observation_space\u001b[39m=\u001b[39;49mobservation_space,\n\u001b[0;32m    234\u001b[0m                           action_space\u001b[39m=\u001b[39;49maction_space)\n\u001b[0;32m    235\u001b[0m \u001b[39mself\u001b[39m\u001b[39m.\u001b[39menvs\u001b[39m.\u001b[39mseed(\u001b[39mNone\u001b[39;00m \u001b[39mif\u001b[39;00m (seed \u001b[39mis\u001b[39;00m \u001b[39mNone\u001b[39;00m) \u001b[39melse\u001b[39;00m seed \u001b[39m+\u001b[39m index \u001b[39m*\u001b[39m batch_size)\n\u001b[0;32m    236\u001b[0m \u001b[39mself\u001b[39m\u001b[39m.\u001b[39mbatch_size \u001b[39m=\u001b[39m batch_size\n",
      "File \u001b[1;32mc:\\Users\\ssuro\\git\\continuous_control-unitree-g1\\./pytorch-maml-rl\\maml_rl\\envs\\utils\\sync_vector_env.py:13\u001b[0m, in \u001b[0;36mSyncVectorEnv.__init__\u001b[1;34m(self, env_fns, observation_space, action_space, **kwargs)\u001b[0m\n\u001b[0;32m      8\u001b[0m \u001b[39mdef\u001b[39;00m \u001b[39m__init__\u001b[39m(\u001b[39mself\u001b[39m,\n\u001b[0;32m      9\u001b[0m              env_fns,\n\u001b[0;32m     10\u001b[0m              observation_space\u001b[39m=\u001b[39m\u001b[39mNone\u001b[39;00m,\n\u001b[0;32m     11\u001b[0m              action_space\u001b[39m=\u001b[39m\u001b[39mNone\u001b[39;00m,\n\u001b[0;32m     12\u001b[0m              \u001b[39m*\u001b[39m\u001b[39m*\u001b[39mkwargs):\n\u001b[1;32m---> 13\u001b[0m     \u001b[39msuper\u001b[39m(SyncVectorEnv, \u001b[39mself\u001b[39m)\u001b[39m.\u001b[39m\u001b[39m__init__\u001b[39m(env_fns,\n\u001b[0;32m     14\u001b[0m                                         observation_space\u001b[39m=\u001b[39mobservation_space,\n\u001b[0;32m     15\u001b[0m                                         action_space\u001b[39m=\u001b[39maction_space,\n\u001b[0;32m     16\u001b[0m                                         \u001b[39m*\u001b[39m\u001b[39m*\u001b[39mkwargs)\n\u001b[0;32m     17\u001b[0m     \u001b[39mfor\u001b[39;00m env \u001b[39min\u001b[39;00m \u001b[39mself\u001b[39m\u001b[39m.\u001b[39menvs:\n\u001b[0;32m     18\u001b[0m         \u001b[39mif\u001b[39;00m \u001b[39mnot\u001b[39;00m \u001b[39mhasattr\u001b[39m(env\u001b[39m.\u001b[39munwrapped, \u001b[39m'\u001b[39m\u001b[39mreset_task\u001b[39m\u001b[39m'\u001b[39m):\n",
      "File \u001b[1;32mc:\\Users\\ssuro\\anaconda3\\envs\\torch\\lib\\site-packages\\gym\\vector\\sync_vector_env.py:54\u001b[0m, in \u001b[0;36mSyncVectorEnv.__init__\u001b[1;34m(self, env_fns, observation_space, action_space, copy, new_step_api)\u001b[0m\n\u001b[0;32m     39\u001b[0m \u001b[39m\"\"\"Vectorized environment that serially runs multiple environments.\u001b[39;00m\n\u001b[0;32m     40\u001b[0m \n\u001b[0;32m     41\u001b[0m \u001b[39mArgs:\u001b[39;00m\n\u001b[1;32m   (...)\u001b[0m\n\u001b[0;32m     51\u001b[0m \u001b[39m        (or, by default, the observation space of the first sub-environment).\u001b[39;00m\n\u001b[0;32m     52\u001b[0m \u001b[39m\"\"\"\u001b[39;00m\n\u001b[0;32m     53\u001b[0m \u001b[39mself\u001b[39m\u001b[39m.\u001b[39menv_fns \u001b[39m=\u001b[39m env_fns\n\u001b[1;32m---> 54\u001b[0m \u001b[39mself\u001b[39m\u001b[39m.\u001b[39menvs \u001b[39m=\u001b[39m [env_fn() \u001b[39mfor\u001b[39;00m env_fn \u001b[39min\u001b[39;00m env_fns]\n\u001b[0;32m     55\u001b[0m \u001b[39mself\u001b[39m\u001b[39m.\u001b[39mcopy \u001b[39m=\u001b[39m copy\n\u001b[0;32m     56\u001b[0m \u001b[39mself\u001b[39m\u001b[39m.\u001b[39mmetadata \u001b[39m=\u001b[39m \u001b[39mself\u001b[39m\u001b[39m.\u001b[39menvs[\u001b[39m0\u001b[39m]\u001b[39m.\u001b[39mmetadata\n",
      "File \u001b[1;32mc:\\Users\\ssuro\\anaconda3\\envs\\torch\\lib\\site-packages\\gym\\vector\\sync_vector_env.py:54\u001b[0m, in \u001b[0;36m<listcomp>\u001b[1;34m(.0)\u001b[0m\n\u001b[0;32m     39\u001b[0m \u001b[39m\"\"\"Vectorized environment that serially runs multiple environments.\u001b[39;00m\n\u001b[0;32m     40\u001b[0m \n\u001b[0;32m     41\u001b[0m \u001b[39mArgs:\u001b[39;00m\n\u001b[1;32m   (...)\u001b[0m\n\u001b[0;32m     51\u001b[0m \u001b[39m        (or, by default, the observation space of the first sub-environment).\u001b[39;00m\n\u001b[0;32m     52\u001b[0m \u001b[39m\"\"\"\u001b[39;00m\n\u001b[0;32m     53\u001b[0m \u001b[39mself\u001b[39m\u001b[39m.\u001b[39menv_fns \u001b[39m=\u001b[39m env_fns\n\u001b[1;32m---> 54\u001b[0m \u001b[39mself\u001b[39m\u001b[39m.\u001b[39menvs \u001b[39m=\u001b[39m [env_fn() \u001b[39mfor\u001b[39;00m env_fn \u001b[39min\u001b[39;00m env_fns]\n\u001b[0;32m     55\u001b[0m \u001b[39mself\u001b[39m\u001b[39m.\u001b[39mcopy \u001b[39m=\u001b[39m copy\n\u001b[0;32m     56\u001b[0m \u001b[39mself\u001b[39m\u001b[39m.\u001b[39mmetadata \u001b[39m=\u001b[39m \u001b[39mself\u001b[39m\u001b[39m.\u001b[39menvs[\u001b[39m0\u001b[39m]\u001b[39m.\u001b[39mmetadata\n",
      "File \u001b[1;32mc:\\Users\\ssuro\\git\\continuous_control-unitree-g1\\./pytorch-maml-rl\\maml_rl\\samplers\\sampler.py:10\u001b[0m, in \u001b[0;36mmake_env.__call__\u001b[1;34m(self)\u001b[0m\n\u001b[0;32m      9\u001b[0m \u001b[39mdef\u001b[39;00m \u001b[39m__call__\u001b[39m(\u001b[39mself\u001b[39m):\n\u001b[1;32m---> 10\u001b[0m     env \u001b[39m=\u001b[39m gym\u001b[39m.\u001b[39mmake(\u001b[39mself\u001b[39m\u001b[39m.\u001b[39menv_name, \u001b[39m*\u001b[39m\u001b[39m*\u001b[39m\u001b[39mself\u001b[39m\u001b[39m.\u001b[39menv_kwargs)\n\u001b[0;32m     11\u001b[0m     \u001b[39mif\u001b[39;00m \u001b[39mhasattr\u001b[39m(env, \u001b[39m'\u001b[39m\u001b[39mseed\u001b[39m\u001b[39m'\u001b[39m):\n\u001b[0;32m     12\u001b[0m         env\u001b[39m.\u001b[39mseed(\u001b[39mself\u001b[39m\u001b[39m.\u001b[39mseed)\n",
      "File \u001b[1;32mc:\\Users\\ssuro\\anaconda3\\envs\\torch\\lib\\site-packages\\gym\\envs\\registration.py:662\u001b[0m, in \u001b[0;36mmake\u001b[1;34m(id, max_episode_steps, autoreset, new_step_api, disable_env_checker, **kwargs)\u001b[0m\n\u001b[0;32m    657\u001b[0m         logger\u001b[39m.\u001b[39mwarn(\n\u001b[0;32m    658\u001b[0m             \u001b[39mf\u001b[39m\u001b[39m\"\u001b[39m\u001b[39mThe environment creator metadata doesn\u001b[39m\u001b[39m'\u001b[39m\u001b[39mt include `render_modes`, contains: \u001b[39m\u001b[39m{\u001b[39;00m\u001b[39mlist\u001b[39m(env_creator\u001b[39m.\u001b[39mmetadata\u001b[39m.\u001b[39mkeys())\u001b[39m}\u001b[39;00m\u001b[39m\"\u001b[39m\n\u001b[0;32m    659\u001b[0m         )\n\u001b[0;32m    661\u001b[0m \u001b[39mtry\u001b[39;00m:\n\u001b[1;32m--> 662\u001b[0m     env \u001b[39m=\u001b[39m env_creator(\u001b[39m*\u001b[39m\u001b[39m*\u001b[39m_kwargs)\n\u001b[0;32m    663\u001b[0m \u001b[39mexcept\u001b[39;00m \u001b[39mTypeError\u001b[39;00m \u001b[39mas\u001b[39;00m e:\n\u001b[0;32m    664\u001b[0m     \u001b[39mif\u001b[39;00m (\n\u001b[0;32m    665\u001b[0m         \u001b[39mstr\u001b[39m(e)\u001b[39m.\u001b[39mfind(\u001b[39m\"\u001b[39m\u001b[39mgot an unexpected keyword argument \u001b[39m\u001b[39m'\u001b[39m\u001b[39mrender_mode\u001b[39m\u001b[39m'\u001b[39m\u001b[39m\"\u001b[39m) \u001b[39m>\u001b[39m\u001b[39m=\u001b[39m \u001b[39m0\u001b[39m\n\u001b[0;32m    666\u001b[0m         \u001b[39mand\u001b[39;00m apply_human_rendering\n\u001b[0;32m    667\u001b[0m     ):\n",
      "File \u001b[1;32mc:\\Users\\ssuro\\git\\continuous_control-unitree-g1\\environments\\g1.py:308\u001b[0m, in \u001b[0;36mG1GoalDistanceEnv.__init__\u001b[1;34m(self, ctrl_cost_weight, use_contact_forces, contact_cost_weight, healthy_reward, terminate_when_unhealthy, healthy_z_range, contact_force_range, reset_noise_scale, exclude_current_positions_from_observation, task, **kwargs)\u001b[0m\n\u001b[0;32m    305\u001b[0m \u001b[39mself\u001b[39m\u001b[39m.\u001b[39m_goal_orientation \u001b[39m=\u001b[39m task\u001b[39m.\u001b[39mget(\u001b[39m'\u001b[39m\u001b[39morienation\u001b[39m\u001b[39m'\u001b[39m, \u001b[39m1\u001b[39m)\n\u001b[0;32m    306\u001b[0m \u001b[39mself\u001b[39m\u001b[39m.\u001b[39m_action_scaling \u001b[39m=\u001b[39m \u001b[39mNone\u001b[39;00m\n\u001b[1;32m--> 308\u001b[0m \u001b[39msuper\u001b[39m()\u001b[39m.\u001b[39m\u001b[39m__init__\u001b[39m(\n\u001b[0;32m    309\u001b[0m     ctrl_cost_weight,\n\u001b[0;32m    310\u001b[0m     use_contact_forces,\n\u001b[0;32m    311\u001b[0m     contact_cost_weight,\n\u001b[0;32m    312\u001b[0m     healthy_reward,\n\u001b[0;32m    313\u001b[0m     terminate_when_unhealthy,\n\u001b[0;32m    314\u001b[0m     healthy_z_range,\n\u001b[0;32m    315\u001b[0m     contact_force_range,\n\u001b[0;32m    316\u001b[0m     reset_noise_scale,\n\u001b[0;32m    317\u001b[0m     exclude_current_positions_from_observation,\n\u001b[0;32m    318\u001b[0m     \u001b[39m*\u001b[39m\u001b[39m*\u001b[39m kwargs,\n\u001b[0;32m    319\u001b[0m )\n",
      "File \u001b[1;32mc:\\Users\\ssuro\\git\\continuous_control-unitree-g1\\environments\\g1.py:66\u001b[0m, in \u001b[0;36mG1DistanceEnv.__init__\u001b[1;34m(self, ctrl_cost_weight, use_contact_forces, contact_cost_weight, healthy_reward, terminate_when_unhealthy, healthy_z_range, contact_force_range, reset_noise_scale, exclude_current_positions_from_observation, **kwargs)\u001b[0m\n\u001b[0;32m     62\u001b[0m observation_space \u001b[39m=\u001b[39m Box(low\u001b[39m=\u001b[39m\u001b[39m-\u001b[39mnp\u001b[39m.\u001b[39minf, high\u001b[39m=\u001b[39mnp\u001b[39m.\u001b[39minf,\n\u001b[0;32m     63\u001b[0m                         shape\u001b[39m=\u001b[39m(obs_shape,), dtype\u001b[39m=\u001b[39mnp\u001b[39m.\u001b[39mfloat64)\n\u001b[0;32m     64\u001b[0m \u001b[39mself\u001b[39m\u001b[39m.\u001b[39mdesired_goal \u001b[39m=\u001b[39m np\u001b[39m.\u001b[39mones((obs_shape,))\n\u001b[1;32m---> 66\u001b[0m MujocoEnv\u001b[39m.\u001b[39m\u001b[39m__init__\u001b[39m(\n\u001b[0;32m     67\u001b[0m     \u001b[39mself\u001b[39m, xml_path, \u001b[39m5\u001b[39m, observation_space\u001b[39m=\u001b[39mobservation_space, \u001b[39m*\u001b[39m\u001b[39m*\u001b[39mkwargs\n\u001b[0;32m     68\u001b[0m )\n",
      "File \u001b[1;32mc:\\Users\\ssuro\\anaconda3\\envs\\torch\\lib\\site-packages\\gym\\envs\\mujoco\\mujoco_env.py:361\u001b[0m, in \u001b[0;36mMujocoEnv.__init__\u001b[1;34m(self, model_path, frame_skip, observation_space, render_mode, width, height, camera_id, camera_name)\u001b[0m\n\u001b[0;32m    357\u001b[0m \u001b[39mif\u001b[39;00m MUJOCO_NOT_INSTALLED:\n\u001b[0;32m    358\u001b[0m     \u001b[39mraise\u001b[39;00m error\u001b[39m.\u001b[39mDependencyNotInstalled(\n\u001b[0;32m    359\u001b[0m         \u001b[39mf\u001b[39m\u001b[39m\"\u001b[39m\u001b[39m{\u001b[39;00mMUJOCO_IMPORT_ERROR\u001b[39m}\u001b[39;00m\u001b[39m. (HINT: you need to install mujoco)\u001b[39m\u001b[39m\"\u001b[39m\n\u001b[0;32m    360\u001b[0m     )\n\u001b[1;32m--> 361\u001b[0m \u001b[39msuper\u001b[39;49m()\u001b[39m.\u001b[39;49m\u001b[39m__init__\u001b[39;49m(\n\u001b[0;32m    362\u001b[0m     model_path,\n\u001b[0;32m    363\u001b[0m     frame_skip,\n\u001b[0;32m    364\u001b[0m     observation_space,\n\u001b[0;32m    365\u001b[0m     render_mode,\n\u001b[0;32m    366\u001b[0m     width,\n\u001b[0;32m    367\u001b[0m     height,\n\u001b[0;32m    368\u001b[0m     camera_id,\n\u001b[0;32m    369\u001b[0m     camera_name,\n\u001b[0;32m    370\u001b[0m )\n",
      "File \u001b[1;32mc:\\Users\\ssuro\\anaconda3\\envs\\torch\\lib\\site-packages\\gym\\envs\\mujoco\\mujoco_env.py:52\u001b[0m, in \u001b[0;36mBaseMujocoEnv.__init__\u001b[1;34m(self, model_path, frame_skip, observation_space, render_mode, width, height, camera_id, camera_name)\u001b[0m\n\u001b[0;32m     49\u001b[0m \u001b[39mif\u001b[39;00m \u001b[39mnot\u001b[39;00m path\u001b[39m.\u001b[39mexists(\u001b[39mself\u001b[39m\u001b[39m.\u001b[39mfullpath):\n\u001b[0;32m     50\u001b[0m     \u001b[39mraise\u001b[39;00m \u001b[39mOSError\u001b[39;00m(\u001b[39mf\u001b[39m\u001b[39m\"\u001b[39m\u001b[39mFile \u001b[39m\u001b[39m{\u001b[39;00m\u001b[39mself\u001b[39m\u001b[39m.\u001b[39mfullpath\u001b[39m}\u001b[39;00m\u001b[39m does not exist\u001b[39m\u001b[39m\"\u001b[39m)\n\u001b[1;32m---> 52\u001b[0m \u001b[39mself\u001b[39;49m\u001b[39m.\u001b[39;49m_initialize_simulation()\n\u001b[0;32m     54\u001b[0m \u001b[39mself\u001b[39m\u001b[39m.\u001b[39minit_qpos \u001b[39m=\u001b[39m \u001b[39mself\u001b[39m\u001b[39m.\u001b[39mdata\u001b[39m.\u001b[39mqpos\u001b[39m.\u001b[39mravel()\u001b[39m.\u001b[39mcopy()\n\u001b[0;32m     55\u001b[0m \u001b[39mself\u001b[39m\u001b[39m.\u001b[39minit_qvel \u001b[39m=\u001b[39m \u001b[39mself\u001b[39m\u001b[39m.\u001b[39mdata\u001b[39m.\u001b[39mqvel\u001b[39m.\u001b[39mravel()\u001b[39m.\u001b[39mcopy()\n",
      "File \u001b[1;32mc:\\Users\\ssuro\\anaconda3\\envs\\torch\\lib\\site-packages\\gym\\envs\\mujoco\\mujoco_env.py:373\u001b[0m, in \u001b[0;36mMujocoEnv._initialize_simulation\u001b[1;34m(self)\u001b[0m\n\u001b[0;32m    372\u001b[0m \u001b[39mdef\u001b[39;00m \u001b[39m_initialize_simulation\u001b[39m(\u001b[39mself\u001b[39m):\n\u001b[1;32m--> 373\u001b[0m     \u001b[39mself\u001b[39m\u001b[39m.\u001b[39mmodel \u001b[39m=\u001b[39m mujoco\u001b[39m.\u001b[39;49mMjModel\u001b[39m.\u001b[39;49mfrom_xml_path(\u001b[39mself\u001b[39;49m\u001b[39m.\u001b[39;49mfullpath)\n\u001b[0;32m    374\u001b[0m     \u001b[39mself\u001b[39m\u001b[39m.\u001b[39mdata \u001b[39m=\u001b[39m mujoco\u001b[39m.\u001b[39mMjData(\u001b[39mself\u001b[39m\u001b[39m.\u001b[39mmodel)\n",
      "\u001b[1;31mKeyboardInterrupt\u001b[0m: "
     ]
    }
   ],
   "source": [
    "train.main(config)"
   ]
  }
 ],
 "metadata": {
  "kernelspec": {
   "display_name": "Python 3.10.6 ('torch')",
   "language": "python",
   "name": "python3"
  },
  "language_info": {
   "codemirror_mode": {
    "name": "ipython",
    "version": 3
   },
   "file_extension": ".py",
   "mimetype": "text/x-python",
   "name": "python",
   "nbconvert_exporter": "python",
   "pygments_lexer": "ipython3",
   "version": "3.10.6"
  },
  "vscode": {
   "interpreter": {
    "hash": "82ea6adb180b12ed72836e614d5d57295654ca2a9780d621124b81b6a9baa809"
   }
  }
 },
 "nbformat": 4,
 "nbformat_minor": 2
}
