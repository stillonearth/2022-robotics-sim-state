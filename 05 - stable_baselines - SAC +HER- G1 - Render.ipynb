{
 "cells": [
  {
   "cell_type": "code",
   "execution_count": 1,
   "id": "146a73e6",
   "metadata": {},
   "outputs": [
    {
     "name": "stderr",
     "output_type": "stream",
     "text": [
      "c:\\Users\\ssuro\\anaconda3\\lib\\site-packages\\torch\\utils\\tensorboard\\__init__.py:4: DeprecationWarning: distutils Version classes are deprecated. Use packaging.version instead.\n",
      "  if not hasattr(tensorboard, \"__version__\") or LooseVersion(\n",
      "c:\\Users\\ssuro\\anaconda3\\lib\\site-packages\\tensorboard\\compat\\proto\\tensor_shape_pb2.py:18: DeprecationWarning: Call to deprecated create function FileDescriptor(). Note: Create unlinked descriptors is going to go away. Please use get/find descriptors from generated code or query the descriptor_pool.\n",
      "  DESCRIPTOR = _descriptor.FileDescriptor(\n",
      "c:\\Users\\ssuro\\anaconda3\\lib\\site-packages\\tensorboard\\compat\\proto\\tensor_shape_pb2.py:36: DeprecationWarning: Call to deprecated create function FieldDescriptor(). Note: Create unlinked descriptors is going to go away. Please use get/find descriptors from generated code or query the descriptor_pool.\n",
      "  _descriptor.FieldDescriptor(\n",
      "c:\\Users\\ssuro\\anaconda3\\lib\\site-packages\\tensorboard\\compat\\proto\\tensor_shape_pb2.py:29: DeprecationWarning: Call to deprecated create function Descriptor(). Note: Create unlinked descriptors is going to go away. Please use get/find descriptors from generated code or query the descriptor_pool.\n",
      "  _TENSORSHAPEPROTO_DIM = _descriptor.Descriptor(\n",
      "c:\\Users\\ssuro\\anaconda3\\lib\\site-packages\\tensorboard\\compat\\proto\\types_pb2.py:19: DeprecationWarning: Call to deprecated create function FileDescriptor(). Note: Create unlinked descriptors is going to go away. Please use get/find descriptors from generated code or query the descriptor_pool.\n",
      "  DESCRIPTOR = _descriptor.FileDescriptor(\n",
      "c:\\Users\\ssuro\\anaconda3\\lib\\site-packages\\tensorboard\\compat\\proto\\types_pb2.py:33: DeprecationWarning: Call to deprecated create function EnumValueDescriptor(). Note: Create unlinked descriptors is going to go away. Please use get/find descriptors from generated code or query the descriptor_pool.\n",
      "  _descriptor.EnumValueDescriptor(\n",
      "c:\\Users\\ssuro\\anaconda3\\lib\\site-packages\\tensorboard\\compat\\proto\\types_pb2.py:27: DeprecationWarning: Call to deprecated create function EnumDescriptor(). Note: Create unlinked descriptors is going to go away. Please use get/find descriptors from generated code or query the descriptor_pool.\n",
      "  _DATATYPE = _descriptor.EnumDescriptor(\n",
      "c:\\Users\\ssuro\\anaconda3\\lib\\site-packages\\tensorboard\\compat\\proto\\types_pb2.py:287: DeprecationWarning: Call to deprecated create function FieldDescriptor(). Note: Create unlinked descriptors is going to go away. Please use get/find descriptors from generated code or query the descriptor_pool.\n",
      "  _descriptor.FieldDescriptor(\n",
      "c:\\Users\\ssuro\\anaconda3\\lib\\site-packages\\tensorboard\\compat\\proto\\types_pb2.py:280: DeprecationWarning: Call to deprecated create function Descriptor(). Note: Create unlinked descriptors is going to go away. Please use get/find descriptors from generated code or query the descriptor_pool.\n",
      "  _SERIALIZEDDTYPE = _descriptor.Descriptor(\n",
      "c:\\Users\\ssuro\\anaconda3\\lib\\site-packages\\tensorboard\\compat\\proto\\resource_handle_pb2.py:20: DeprecationWarning: Call to deprecated create function FileDescriptor(). Note: Create unlinked descriptors is going to go away. Please use get/find descriptors from generated code or query the descriptor_pool.\n",
      "  DESCRIPTOR = _descriptor.FileDescriptor(\n",
      "c:\\Users\\ssuro\\anaconda3\\lib\\site-packages\\tensorboard\\compat\\proto\\resource_handle_pb2.py:39: DeprecationWarning: Call to deprecated create function FieldDescriptor(). Note: Create unlinked descriptors is going to go away. Please use get/find descriptors from generated code or query the descriptor_pool.\n",
      "  _descriptor.FieldDescriptor(\n",
      "c:\\Users\\ssuro\\anaconda3\\lib\\site-packages\\tensorboard\\compat\\proto\\resource_handle_pb2.py:32: DeprecationWarning: Call to deprecated create function Descriptor(). Note: Create unlinked descriptors is going to go away. Please use get/find descriptors from generated code or query the descriptor_pool.\n",
      "  _RESOURCEHANDLEPROTO_DTYPEANDSHAPE = _descriptor.Descriptor(\n",
      "c:\\Users\\ssuro\\anaconda3\\lib\\site-packages\\tensorboard\\compat\\proto\\tensor_pb2.py:21: DeprecationWarning: Call to deprecated create function FileDescriptor(). Note: Create unlinked descriptors is going to go away. Please use get/find descriptors from generated code or query the descriptor_pool.\n",
      "  DESCRIPTOR = _descriptor.FileDescriptor(\n",
      "c:\\Users\\ssuro\\anaconda3\\lib\\site-packages\\tensorboard\\compat\\proto\\tensor_pb2.py:40: DeprecationWarning: Call to deprecated create function FieldDescriptor(). Note: Create unlinked descriptors is going to go away. Please use get/find descriptors from generated code or query the descriptor_pool.\n",
      "  _descriptor.FieldDescriptor(\n",
      "c:\\Users\\ssuro\\anaconda3\\lib\\site-packages\\tensorboard\\compat\\proto\\tensor_pb2.py:33: DeprecationWarning: Call to deprecated create function Descriptor(). Note: Create unlinked descriptors is going to go away. Please use get/find descriptors from generated code or query the descriptor_pool.\n",
      "  _TENSORPROTO = _descriptor.Descriptor(\n",
      "c:\\Users\\ssuro\\anaconda3\\lib\\site-packages\\tensorboard\\compat\\proto\\summary_pb2.py:20: DeprecationWarning: Call to deprecated create function FileDescriptor(). Note: Create unlinked descriptors is going to go away. Please use get/find descriptors from generated code or query the descriptor_pool.\n",
      "  DESCRIPTOR = _descriptor.FileDescriptor(\n",
      "c:\\Users\\ssuro\\anaconda3\\lib\\site-packages\\tensorboard\\compat\\proto\\summary_pb2.py:35: DeprecationWarning: Call to deprecated create function EnumValueDescriptor(). Note: Create unlinked descriptors is going to go away. Please use get/find descriptors from generated code or query the descriptor_pool.\n",
      "  _descriptor.EnumValueDescriptor(\n",
      "c:\\Users\\ssuro\\anaconda3\\lib\\site-packages\\tensorboard\\compat\\proto\\summary_pb2.py:29: DeprecationWarning: Call to deprecated create function EnumDescriptor(). Note: Create unlinked descriptors is going to go away. Please use get/find descriptors from generated code or query the descriptor_pool.\n",
      "  _DATACLASS = _descriptor.EnumDescriptor(\n",
      "c:\\Users\\ssuro\\anaconda3\\lib\\site-packages\\tensorboard\\compat\\proto\\summary_pb2.py:74: DeprecationWarning: Call to deprecated create function FieldDescriptor(). Note: Create unlinked descriptors is going to go away. Please use get/find descriptors from generated code or query the descriptor_pool.\n",
      "  _descriptor.FieldDescriptor(\n",
      "c:\\Users\\ssuro\\anaconda3\\lib\\site-packages\\tensorboard\\compat\\proto\\summary_pb2.py:67: DeprecationWarning: Call to deprecated create function Descriptor(). Note: Create unlinked descriptors is going to go away. Please use get/find descriptors from generated code or query the descriptor_pool.\n",
      "  _SUMMARYDESCRIPTION = _descriptor.Descriptor(\n",
      "c:\\Users\\ssuro\\anaconda3\\lib\\site-packages\\stable_baselines3\\common\\cmd_util.py:5: FutureWarning: Module ``common.cmd_util`` has been renamed to ``common.env_util`` and will be removed in the future.\n",
      "  warnings.warn(\n"
     ]
    }
   ],
   "source": [
    "from stable_baselines3.common.vec_env import VecVideoRecorder, DummyVecEnv\n",
    "from stable_baselines3 import SAC, HerReplayBuffer\n",
    "from stable_baselines3.common.cmd_util import make_vec_env\n",
    "from environments import *\n",
    "\n",
    "import torch\n",
    "import numpy as np\n",
    "import gym\n",
    "import imageio"
   ]
  },
  {
   "cell_type": "code",
   "execution_count": 2,
   "id": "5b36970d",
   "metadata": {},
   "outputs": [],
   "source": [
    "env_id = 'G1Goal-v0'\n",
    "video_folder = 'renders'\n",
    "video_length = 500"
   ]
  },
  {
   "cell_type": "code",
   "execution_count": 3,
   "id": "63cc4d22",
   "metadata": {},
   "outputs": [
    {
     "name": "stderr",
     "output_type": "stream",
     "text": [
      "c:\\Users\\ssuro\\anaconda3\\lib\\site-packages\\gym\\core.py:317: DeprecationWarning: \u001b[33mWARN: Initializing wrapper in old step API which returns one bool instead of two. It is recommended to set `new_step_api=True` to use new step API. This will be the default behaviour in future.\u001b[0m\n",
      "  deprecation(\n",
      "c:\\Users\\ssuro\\anaconda3\\lib\\site-packages\\gym\\wrappers\\step_api_compatibility.py:39: DeprecationWarning: \u001b[33mWARN: Initializing environment in old step API which returns one bool instead of two. It is recommended to set `new_step_api=True` to use new step API. This will be the default behaviour in future.\u001b[0m\n",
      "  deprecation(\n"
     ]
    }
   ],
   "source": [
    "env = make_vec_env(\"G1Goal-v1\", 1)"
   ]
  },
  {
   "cell_type": "code",
   "execution_count": 4,
   "id": "fd0e13d5",
   "metadata": {},
   "outputs": [
    {
     "name": "stdout",
     "output_type": "stream",
     "text": [
      "Using cuda device\n"
     ]
    },
    {
     "ename": "MemoryError",
     "evalue": "Unable to allocate 454. MiB for an array with shape (1000, 1000, 1, 119) and data type float32",
     "output_type": "error",
     "traceback": [
      "\u001b[1;31m---------------------------------------------------------------------------\u001b[0m",
      "\u001b[1;31mMemoryError\u001b[0m                               Traceback (most recent call last)",
      "\u001b[1;32mc:\\Users\\ssuro\\git\\continuous_control-unitree-g1\\05 - stable_baselines - SAC +HER- G1 - Render.ipynb Cell 4\u001b[0m in \u001b[0;36m<cell line: 1>\u001b[1;34m()\u001b[0m\n\u001b[1;32m----> <a href='vscode-notebook-cell:/c%3A/Users/ssuro/git/continuous_control-unitree-g1/05%20-%20stable_baselines%20-%20SAC%20%2BHER-%20G1%20-%20Render.ipynb#X11sZmlsZQ%3D%3D?line=0'>1</a>\u001b[0m model \u001b[39m=\u001b[39m SAC(\n\u001b[0;32m      <a href='vscode-notebook-cell:/c%3A/Users/ssuro/git/continuous_control-unitree-g1/05%20-%20stable_baselines%20-%20SAC%20%2BHER-%20G1%20-%20Render.ipynb#X11sZmlsZQ%3D%3D?line=1'>2</a>\u001b[0m     \u001b[39m\"\u001b[39;49m\u001b[39mMultiInputPolicy\u001b[39;49m\u001b[39m\"\u001b[39;49m, \n\u001b[0;32m      <a href='vscode-notebook-cell:/c%3A/Users/ssuro/git/continuous_control-unitree-g1/05%20-%20stable_baselines%20-%20SAC%20%2BHER-%20G1%20-%20Render.ipynb#X11sZmlsZQ%3D%3D?line=2'>3</a>\u001b[0m     env, \n\u001b[0;32m      <a href='vscode-notebook-cell:/c%3A/Users/ssuro/git/continuous_control-unitree-g1/05%20-%20stable_baselines%20-%20SAC%20%2BHER-%20G1%20-%20Render.ipynb#X11sZmlsZQ%3D%3D?line=3'>4</a>\u001b[0m     verbose\u001b[39m=\u001b[39;49m\u001b[39m1\u001b[39;49m,\n\u001b[0;32m      <a href='vscode-notebook-cell:/c%3A/Users/ssuro/git/continuous_control-unitree-g1/05%20-%20stable_baselines%20-%20SAC%20%2BHER-%20G1%20-%20Render.ipynb#X11sZmlsZQ%3D%3D?line=4'>5</a>\u001b[0m     replay_buffer_class\u001b[39m=\u001b[39;49mHerReplayBuffer,\n\u001b[0;32m      <a href='vscode-notebook-cell:/c%3A/Users/ssuro/git/continuous_control-unitree-g1/05%20-%20stable_baselines%20-%20SAC%20%2BHER-%20G1%20-%20Render.ipynb#X11sZmlsZQ%3D%3D?line=5'>6</a>\u001b[0m     replay_buffer_kwargs\u001b[39m=\u001b[39;49m\u001b[39mdict\u001b[39;49m(\n\u001b[0;32m      <a href='vscode-notebook-cell:/c%3A/Users/ssuro/git/continuous_control-unitree-g1/05%20-%20stable_baselines%20-%20SAC%20%2BHER-%20G1%20-%20Render.ipynb#X11sZmlsZQ%3D%3D?line=6'>7</a>\u001b[0m       n_sampled_goal\u001b[39m=\u001b[39;49m\u001b[39m4\u001b[39;49m,\n\u001b[0;32m      <a href='vscode-notebook-cell:/c%3A/Users/ssuro/git/continuous_control-unitree-g1/05%20-%20stable_baselines%20-%20SAC%20%2BHER-%20G1%20-%20Render.ipynb#X11sZmlsZQ%3D%3D?line=7'>8</a>\u001b[0m       goal_selection_strategy\u001b[39m=\u001b[39;49m\u001b[39m\"\u001b[39;49m\u001b[39mfuture\u001b[39;49m\u001b[39m\"\u001b[39;49m,\n\u001b[0;32m      <a href='vscode-notebook-cell:/c%3A/Users/ssuro/git/continuous_control-unitree-g1/05%20-%20stable_baselines%20-%20SAC%20%2BHER-%20G1%20-%20Render.ipynb#X11sZmlsZQ%3D%3D?line=8'>9</a>\u001b[0m       max_episode_length\u001b[39m=\u001b[39;49m\u001b[39m1000\u001b[39;49m,\n\u001b[0;32m     <a href='vscode-notebook-cell:/c%3A/Users/ssuro/git/continuous_control-unitree-g1/05%20-%20stable_baselines%20-%20SAC%20%2BHER-%20G1%20-%20Render.ipynb#X11sZmlsZQ%3D%3D?line=9'>10</a>\u001b[0m       online_sampling\u001b[39m=\u001b[39;49m\u001b[39mTrue\u001b[39;49;00m,\n\u001b[0;32m     <a href='vscode-notebook-cell:/c%3A/Users/ssuro/git/continuous_control-unitree-g1/05%20-%20stable_baselines%20-%20SAC%20%2BHER-%20G1%20-%20Render.ipynb#X11sZmlsZQ%3D%3D?line=10'>11</a>\u001b[0m     ),\n\u001b[0;32m     <a href='vscode-notebook-cell:/c%3A/Users/ssuro/git/continuous_control-unitree-g1/05%20-%20stable_baselines%20-%20SAC%20%2BHER-%20G1%20-%20Render.ipynb#X11sZmlsZQ%3D%3D?line=11'>12</a>\u001b[0m     policy_kwargs\u001b[39m=\u001b[39;49m\u001b[39mdict\u001b[39;49m(\n\u001b[0;32m     <a href='vscode-notebook-cell:/c%3A/Users/ssuro/git/continuous_control-unitree-g1/05%20-%20stable_baselines%20-%20SAC%20%2BHER-%20G1%20-%20Render.ipynb#X11sZmlsZQ%3D%3D?line=12'>13</a>\u001b[0m         net_arch\u001b[39m=\u001b[39;49m[\u001b[39m512\u001b[39;49m, \u001b[39m512\u001b[39;49m, \u001b[39m512\u001b[39;49m, \u001b[39m512\u001b[39;49m], \n\u001b[0;32m     <a href='vscode-notebook-cell:/c%3A/Users/ssuro/git/continuous_control-unitree-g1/05%20-%20stable_baselines%20-%20SAC%20%2BHER-%20G1%20-%20Render.ipynb#X11sZmlsZQ%3D%3D?line=13'>14</a>\u001b[0m         activation_fn\u001b[39m=\u001b[39;49mtorch\u001b[39m.\u001b[39;49mnn\u001b[39m.\u001b[39;49mELU,\n\u001b[0;32m     <a href='vscode-notebook-cell:/c%3A/Users/ssuro/git/continuous_control-unitree-g1/05%20-%20stable_baselines%20-%20SAC%20%2BHER-%20G1%20-%20Render.ipynb#X11sZmlsZQ%3D%3D?line=14'>15</a>\u001b[0m         n_critics\u001b[39m=\u001b[39;49m\u001b[39m5\u001b[39;49m,\n\u001b[0;32m     <a href='vscode-notebook-cell:/c%3A/Users/ssuro/git/continuous_control-unitree-g1/05%20-%20stable_baselines%20-%20SAC%20%2BHER-%20G1%20-%20Render.ipynb#X11sZmlsZQ%3D%3D?line=15'>16</a>\u001b[0m     ),\n\u001b[0;32m     <a href='vscode-notebook-cell:/c%3A/Users/ssuro/git/continuous_control-unitree-g1/05%20-%20stable_baselines%20-%20SAC%20%2BHER-%20G1%20-%20Render.ipynb#X11sZmlsZQ%3D%3D?line=16'>17</a>\u001b[0m     learning_rate\u001b[39m=\u001b[39;49m\u001b[39m1e-4\u001b[39;49m,\n\u001b[0;32m     <a href='vscode-notebook-cell:/c%3A/Users/ssuro/git/continuous_control-unitree-g1/05%20-%20stable_baselines%20-%20SAC%20%2BHER-%20G1%20-%20Render.ipynb#X11sZmlsZQ%3D%3D?line=17'>18</a>\u001b[0m     learning_starts\u001b[39m=\u001b[39;49m\u001b[39m1000\u001b[39;49m,\n\u001b[0;32m     <a href='vscode-notebook-cell:/c%3A/Users/ssuro/git/continuous_control-unitree-g1/05%20-%20stable_baselines%20-%20SAC%20%2BHER-%20G1%20-%20Render.ipynb#X11sZmlsZQ%3D%3D?line=18'>19</a>\u001b[0m     tensorboard_log\u001b[39m=\u001b[39;49m\u001b[39m\"\u001b[39;49m\u001b[39m./logs/sac+her/\u001b[39;49m\u001b[39m\"\u001b[39;49m\n\u001b[0;32m     <a href='vscode-notebook-cell:/c%3A/Users/ssuro/git/continuous_control-unitree-g1/05%20-%20stable_baselines%20-%20SAC%20%2BHER-%20G1%20-%20Render.ipynb#X11sZmlsZQ%3D%3D?line=19'>20</a>\u001b[0m )\n",
      "File \u001b[1;32mc:\\Users\\ssuro\\anaconda3\\lib\\site-packages\\stable_baselines3\\sac\\sac.py:150\u001b[0m, in \u001b[0;36mSAC.__init__\u001b[1;34m(self, policy, env, learning_rate, buffer_size, learning_starts, batch_size, tau, gamma, train_freq, gradient_steps, action_noise, replay_buffer_class, replay_buffer_kwargs, optimize_memory_usage, ent_coef, target_update_interval, target_entropy, use_sde, sde_sample_freq, use_sde_at_warmup, tensorboard_log, create_eval_env, policy_kwargs, verbose, seed, device, _init_setup_model)\u001b[0m\n\u001b[0;32m    147\u001b[0m \u001b[39mself\u001b[39m\u001b[39m.\u001b[39ment_coef_optimizer \u001b[39m=\u001b[39m \u001b[39mNone\u001b[39;00m\n\u001b[0;32m    149\u001b[0m \u001b[39mif\u001b[39;00m _init_setup_model:\n\u001b[1;32m--> 150\u001b[0m     \u001b[39mself\u001b[39;49m\u001b[39m.\u001b[39;49m_setup_model()\n",
      "File \u001b[1;32mc:\\Users\\ssuro\\anaconda3\\lib\\site-packages\\stable_baselines3\\sac\\sac.py:153\u001b[0m, in \u001b[0;36mSAC._setup_model\u001b[1;34m(self)\u001b[0m\n\u001b[0;32m    152\u001b[0m \u001b[39mdef\u001b[39;00m \u001b[39m_setup_model\u001b[39m(\u001b[39mself\u001b[39m) \u001b[39m-\u001b[39m\u001b[39m>\u001b[39m \u001b[39mNone\u001b[39;00m:\n\u001b[1;32m--> 153\u001b[0m     \u001b[39msuper\u001b[39;49m()\u001b[39m.\u001b[39;49m_setup_model()\n\u001b[0;32m    154\u001b[0m     \u001b[39mself\u001b[39m\u001b[39m.\u001b[39m_create_aliases()\n\u001b[0;32m    155\u001b[0m     \u001b[39m# Target entropy is used when learning the entropy coefficient\u001b[39;00m\n",
      "File \u001b[1;32mc:\\Users\\ssuro\\anaconda3\\lib\\site-packages\\stable_baselines3\\common\\off_policy_algorithm.py:197\u001b[0m, in \u001b[0;36mOffPolicyAlgorithm._setup_model\u001b[1;34m(self)\u001b[0m\n\u001b[0;32m    188\u001b[0m     \u001b[39melse\u001b[39;00m:\n\u001b[0;32m    189\u001b[0m         replay_buffer \u001b[39m=\u001b[39m DictReplayBuffer(\n\u001b[0;32m    190\u001b[0m             \u001b[39mself\u001b[39m\u001b[39m.\u001b[39mbuffer_size,\n\u001b[0;32m    191\u001b[0m             \u001b[39mself\u001b[39m\u001b[39m.\u001b[39mobservation_space,\n\u001b[1;32m   (...)\u001b[0m\n\u001b[0;32m    194\u001b[0m             optimize_memory_usage\u001b[39m=\u001b[39m\u001b[39mself\u001b[39m\u001b[39m.\u001b[39moptimize_memory_usage,\n\u001b[0;32m    195\u001b[0m         )\n\u001b[1;32m--> 197\u001b[0m     \u001b[39mself\u001b[39m\u001b[39m.\u001b[39mreplay_buffer \u001b[39m=\u001b[39m HerReplayBuffer(\n\u001b[0;32m    198\u001b[0m         \u001b[39mself\u001b[39m\u001b[39m.\u001b[39menv,\n\u001b[0;32m    199\u001b[0m         \u001b[39mself\u001b[39m\u001b[39m.\u001b[39mbuffer_size,\n\u001b[0;32m    200\u001b[0m         device\u001b[39m=\u001b[39m\u001b[39mself\u001b[39m\u001b[39m.\u001b[39mdevice,\n\u001b[0;32m    201\u001b[0m         replay_buffer\u001b[39m=\u001b[39mreplay_buffer,\n\u001b[0;32m    202\u001b[0m         \u001b[39m*\u001b[39m\u001b[39m*\u001b[39m\u001b[39mself\u001b[39m\u001b[39m.\u001b[39mreplay_buffer_kwargs,\n\u001b[0;32m    203\u001b[0m     )\n\u001b[0;32m    205\u001b[0m \u001b[39mif\u001b[39;00m \u001b[39mself\u001b[39m\u001b[39m.\u001b[39mreplay_buffer \u001b[39mis\u001b[39;00m \u001b[39mNone\u001b[39;00m:\n\u001b[0;32m    206\u001b[0m     \u001b[39mself\u001b[39m\u001b[39m.\u001b[39mreplay_buffer \u001b[39m=\u001b[39m \u001b[39mself\u001b[39m\u001b[39m.\u001b[39mreplay_buffer_class(\n\u001b[0;32m    207\u001b[0m         \u001b[39mself\u001b[39m\u001b[39m.\u001b[39mbuffer_size,\n\u001b[0;32m    208\u001b[0m         \u001b[39mself\u001b[39m\u001b[39m.\u001b[39mobservation_space,\n\u001b[1;32m   (...)\u001b[0m\n\u001b[0;32m    213\u001b[0m         \u001b[39m*\u001b[39m\u001b[39m*\u001b[39m\u001b[39mself\u001b[39m\u001b[39m.\u001b[39mreplay_buffer_kwargs,\n\u001b[0;32m    214\u001b[0m     )\n",
      "File \u001b[1;32mc:\\Users\\ssuro\\anaconda3\\lib\\site-packages\\stable_baselines3\\her\\her_replay_buffer.py:145\u001b[0m, in \u001b[0;36mHerReplayBuffer.__init__\u001b[1;34m(self, env, buffer_size, device, replay_buffer, max_episode_length, n_sampled_goal, goal_selection_strategy, online_sampling, handle_timeout_termination)\u001b[0m\n\u001b[0;32m    133\u001b[0m input_shape \u001b[39m=\u001b[39m {\n\u001b[0;32m    134\u001b[0m     \u001b[39m\"\u001b[39m\u001b[39mobservation\u001b[39m\u001b[39m\"\u001b[39m: (\u001b[39mself\u001b[39m\u001b[39m.\u001b[39menv\u001b[39m.\u001b[39mnum_envs,) \u001b[39m+\u001b[39m \u001b[39mself\u001b[39m\u001b[39m.\u001b[39mobs_shape,\n\u001b[0;32m    135\u001b[0m     \u001b[39m\"\u001b[39m\u001b[39machieved_goal\u001b[39m\u001b[39m\"\u001b[39m: (\u001b[39mself\u001b[39m\u001b[39m.\u001b[39menv\u001b[39m.\u001b[39mnum_envs,) \u001b[39m+\u001b[39m \u001b[39mself\u001b[39m\u001b[39m.\u001b[39mgoal_shape,\n\u001b[1;32m   (...)\u001b[0m\n\u001b[0;32m    142\u001b[0m     \u001b[39m\"\u001b[39m\u001b[39mdone\u001b[39m\u001b[39m\"\u001b[39m: (\u001b[39m1\u001b[39m,),\n\u001b[0;32m    143\u001b[0m }\n\u001b[0;32m    144\u001b[0m \u001b[39mself\u001b[39m\u001b[39m.\u001b[39m_observation_keys \u001b[39m=\u001b[39m [\u001b[39m\"\u001b[39m\u001b[39mobservation\u001b[39m\u001b[39m\"\u001b[39m, \u001b[39m\"\u001b[39m\u001b[39machieved_goal\u001b[39m\u001b[39m\"\u001b[39m, \u001b[39m\"\u001b[39m\u001b[39mdesired_goal\u001b[39m\u001b[39m\"\u001b[39m]\n\u001b[1;32m--> 145\u001b[0m \u001b[39mself\u001b[39m\u001b[39m.\u001b[39m_buffer \u001b[39m=\u001b[39m {\n\u001b[0;32m    146\u001b[0m     key: np\u001b[39m.\u001b[39mzeros((\u001b[39mself\u001b[39m\u001b[39m.\u001b[39mmax_episode_stored, \u001b[39mself\u001b[39m\u001b[39m.\u001b[39mmax_episode_length, \u001b[39m*\u001b[39mdim), dtype\u001b[39m=\u001b[39mnp\u001b[39m.\u001b[39mfloat32)\n\u001b[0;32m    147\u001b[0m     \u001b[39mfor\u001b[39;00m key, dim \u001b[39min\u001b[39;00m input_shape\u001b[39m.\u001b[39mitems()\n\u001b[0;32m    148\u001b[0m }\n\u001b[0;32m    149\u001b[0m \u001b[39m# Store info dicts are it can be used to compute the reward (e.g. continuity cost)\u001b[39;00m\n\u001b[0;32m    150\u001b[0m \u001b[39mself\u001b[39m\u001b[39m.\u001b[39minfo_buffer \u001b[39m=\u001b[39m [deque(maxlen\u001b[39m=\u001b[39m\u001b[39mself\u001b[39m\u001b[39m.\u001b[39mmax_episode_length) \u001b[39mfor\u001b[39;00m _ \u001b[39min\u001b[39;00m \u001b[39mrange\u001b[39m(\u001b[39mself\u001b[39m\u001b[39m.\u001b[39mmax_episode_stored)]\n",
      "File \u001b[1;32mc:\\Users\\ssuro\\anaconda3\\lib\\site-packages\\stable_baselines3\\her\\her_replay_buffer.py:146\u001b[0m, in \u001b[0;36m<dictcomp>\u001b[1;34m(.0)\u001b[0m\n\u001b[0;32m    133\u001b[0m input_shape \u001b[39m=\u001b[39m {\n\u001b[0;32m    134\u001b[0m     \u001b[39m\"\u001b[39m\u001b[39mobservation\u001b[39m\u001b[39m\"\u001b[39m: (\u001b[39mself\u001b[39m\u001b[39m.\u001b[39menv\u001b[39m.\u001b[39mnum_envs,) \u001b[39m+\u001b[39m \u001b[39mself\u001b[39m\u001b[39m.\u001b[39mobs_shape,\n\u001b[0;32m    135\u001b[0m     \u001b[39m\"\u001b[39m\u001b[39machieved_goal\u001b[39m\u001b[39m\"\u001b[39m: (\u001b[39mself\u001b[39m\u001b[39m.\u001b[39menv\u001b[39m.\u001b[39mnum_envs,) \u001b[39m+\u001b[39m \u001b[39mself\u001b[39m\u001b[39m.\u001b[39mgoal_shape,\n\u001b[1;32m   (...)\u001b[0m\n\u001b[0;32m    142\u001b[0m     \u001b[39m\"\u001b[39m\u001b[39mdone\u001b[39m\u001b[39m\"\u001b[39m: (\u001b[39m1\u001b[39m,),\n\u001b[0;32m    143\u001b[0m }\n\u001b[0;32m    144\u001b[0m \u001b[39mself\u001b[39m\u001b[39m.\u001b[39m_observation_keys \u001b[39m=\u001b[39m [\u001b[39m\"\u001b[39m\u001b[39mobservation\u001b[39m\u001b[39m\"\u001b[39m, \u001b[39m\"\u001b[39m\u001b[39machieved_goal\u001b[39m\u001b[39m\"\u001b[39m, \u001b[39m\"\u001b[39m\u001b[39mdesired_goal\u001b[39m\u001b[39m\"\u001b[39m]\n\u001b[0;32m    145\u001b[0m \u001b[39mself\u001b[39m\u001b[39m.\u001b[39m_buffer \u001b[39m=\u001b[39m {\n\u001b[1;32m--> 146\u001b[0m     key: np\u001b[39m.\u001b[39;49mzeros((\u001b[39mself\u001b[39;49m\u001b[39m.\u001b[39;49mmax_episode_stored, \u001b[39mself\u001b[39;49m\u001b[39m.\u001b[39;49mmax_episode_length, \u001b[39m*\u001b[39;49mdim), dtype\u001b[39m=\u001b[39;49mnp\u001b[39m.\u001b[39;49mfloat32)\n\u001b[0;32m    147\u001b[0m     \u001b[39mfor\u001b[39;00m key, dim \u001b[39min\u001b[39;00m input_shape\u001b[39m.\u001b[39mitems()\n\u001b[0;32m    148\u001b[0m }\n\u001b[0;32m    149\u001b[0m \u001b[39m# Store info dicts are it can be used to compute the reward (e.g. continuity cost)\u001b[39;00m\n\u001b[0;32m    150\u001b[0m \u001b[39mself\u001b[39m\u001b[39m.\u001b[39minfo_buffer \u001b[39m=\u001b[39m [deque(maxlen\u001b[39m=\u001b[39m\u001b[39mself\u001b[39m\u001b[39m.\u001b[39mmax_episode_length) \u001b[39mfor\u001b[39;00m _ \u001b[39min\u001b[39;00m \u001b[39mrange\u001b[39m(\u001b[39mself\u001b[39m\u001b[39m.\u001b[39mmax_episode_stored)]\n",
      "\u001b[1;31mMemoryError\u001b[0m: Unable to allocate 454. MiB for an array with shape (1000, 1000, 1, 119) and data type float32"
     ]
    }
   ],
   "source": [
    "model = SAC(\n",
    "    \"MultiInputPolicy\", \n",
    "    env, \n",
    "    verbose=1,\n",
    "    replay_buffer_class=HerReplayBuffer,\n",
    "    replay_buffer_kwargs=dict(\n",
    "      n_sampled_goal=4,\n",
    "      goal_selection_strategy=\"future\",\n",
    "      max_episode_length=1000,\n",
    "      online_sampling=True,\n",
    "    ),\n",
    "    policy_kwargs=dict(\n",
    "        net_arch=[512, 512, 512, 512], \n",
    "        activation_fn=torch.nn.ELU,\n",
    "        n_critics=5,\n",
    "    ),\n",
    "    learning_rate=1e-4,\n",
    "    learning_starts=1000,\n",
    "    tensorboard_log=\"./logs/sac+her/\"\n",
    ")"
   ]
  },
  {
   "cell_type": "code",
   "execution_count": null,
   "id": "7d2b9a3d",
   "metadata": {},
   "outputs": [],
   "source": [
    "model = SAC.load(\"trained_models/g1-forward/sac+her\", env=env)"
   ]
  },
  {
   "cell_type": "code",
   "execution_count": null,
   "id": "3825dac7",
   "metadata": {},
   "outputs": [],
   "source": [
    "images = []"
   ]
  },
  {
   "cell_type": "code",
   "execution_count": null,
   "id": "2f92e596",
   "metadata": {},
   "outputs": [],
   "source": [
    "obs = env.reset()\n",
    "img = env.render(mode='rgb_array')\n",
    "\n",
    "for i in range(video_length + 1):\n",
    "  images.append(img)\n",
    "  action = model.predict(obs)\n",
    "  obs, _, _, _ = env.step(action[0])\n",
    "  img = env.render(mode='rgb_array')\n",
    "\n",
    "env.close()"
   ]
  },
  {
   "cell_type": "code",
   "execution_count": null,
   "id": "dba5707a",
   "metadata": {},
   "outputs": [],
   "source": [
    "imageio.mimsave(\n",
    "    'renders/sac.gif', \n",
    "    [np.array(img) for i, img in enumerate(images) if i%2 == 0], \n",
    "    fps=29,\n",
    ")"
   ]
  }
 ],
 "metadata": {
  "kernelspec": {
   "display_name": "Python 3.9.12 ('base')",
   "language": "python",
   "name": "python3"
  },
  "language_info": {
   "codemirror_mode": {
    "name": "ipython",
    "version": 3
   },
   "file_extension": ".py",
   "mimetype": "text/x-python",
   "name": "python",
   "nbconvert_exporter": "python",
   "pygments_lexer": "ipython3",
   "version": "3.9.12"
  },
  "vscode": {
   "interpreter": {
    "hash": "f04677aed7c6774a637d7ce7b6fc8d80c8b672be82d736b4b31c3119a6d1d35d"
   }
  }
 },
 "nbformat": 4,
 "nbformat_minor": 5
}
