{
 "cells": [
  {
   "cell_type": "code",
   "execution_count": 1,
   "id": "146a73e6",
   "metadata": {},
   "outputs": [
    {
     "name": "stderr",
     "output_type": "stream",
     "text": [
      "c:\\Users\\ssuro\\anaconda3\\envs\\torch\\lib\\site-packages\\torch\\utils\\tensorboard\\__init__.py:4: DeprecationWarning: distutils Version classes are deprecated. Use packaging.version instead.\n",
      "  if not hasattr(tensorboard, \"__version__\") or LooseVersion(\n"
     ]
    }
   ],
   "source": [
    "from stable_baselines3.common.vec_env import VecVideoRecorder, DummyVecEnv\n",
    "from stable_baselines3 import SAC, HerReplayBuffer\n",
    "from environments import *\n",
    "\n",
    "import torch\n",
    "import numpy as np\n",
    "import gym\n",
    "import imageio"
   ]
  },
  {
   "cell_type": "code",
   "execution_count": 2,
   "id": "5b36970d",
   "metadata": {},
   "outputs": [],
   "source": [
    "env_id = 'G1ControlEnv-v1'\n",
    "video_folder = 'renders'\n",
    "video_length = 200"
   ]
  },
  {
   "cell_type": "code",
   "execution_count": 3,
   "id": "4890daaa",
   "metadata": {},
   "outputs": [],
   "source": [
    "models = {\n",
    "    \"g1-control-direction\": \"trained_models/g1-control/direction\",\n",
    "    \"g1-control-orientation\": \"trained_models/g1-control/orientation\",\n",
    "    \"g1-control-direction+orientation\": \"trained_models/g1-control/direction+orientation\",\n",
    "}"
   ]
  },
  {
   "cell_type": "code",
   "execution_count": 4,
   "id": "7e87b9a7",
   "metadata": {},
   "outputs": [],
   "source": [
    "import cv2\n",
    "import scipy.misc\n",
    "import os\n",
    "\n",
    "import pillow_avif  # Have to import this before importing PIL\n",
    "from PIL import Image\n"
   ]
  },
  {
   "cell_type": "code",
   "execution_count": 5,
   "id": "bbcd8586",
   "metadata": {},
   "outputs": [
    {
     "name": "stderr",
     "output_type": "stream",
     "text": [
      "c:\\Users\\ssuro\\anaconda3\\envs\\torch\\lib\\site-packages\\gym\\core.py:329: DeprecationWarning: \u001b[33mWARN: Initializing wrapper in old step API which returns one bool instead of two. It is recommended to set `new_step_api=True` to use new step API. This will be the default behaviour in future.\u001b[0m\n",
      "  deprecation(\n",
      "c:\\Users\\ssuro\\anaconda3\\envs\\torch\\lib\\site-packages\\gym\\wrappers\\step_api_compatibility.py:39: DeprecationWarning: \u001b[33mWARN: Initializing environment in old step API which returns one bool instead of two. It is recommended to set `new_step_api=True` to use new step API. This will be the default behaviour in future.\u001b[0m\n",
      "  deprecation(\n",
      "c:\\Users\\ssuro\\anaconda3\\envs\\torch\\lib\\site-packages\\gym\\core.py:51: DeprecationWarning: \u001b[33mWARN: The argument mode in render method is deprecated; use render_mode during environment initialization instead.\n",
      "See here for more information: https://www.gymlibrary.ml/content/api/\u001b[0m\n",
      "  deprecation(\n"
     ]
    }
   ],
   "source": [
    "for name, model_path in models.items():\n",
    "\n",
    "    if name == 'g1-control-direction':\n",
    "        env = gym.make(env_id, mode='direction')\n",
    "    \n",
    "    if name == 'g1-control-orientation':\n",
    "        env = gym.make(env_id, mode='orientation')\n",
    "    \n",
    "    if name == 'g1-control-direction+orientation':\n",
    "        env = gym.make(env_id, mode='direction+orientation')\n",
    "\n",
    "    model = SAC.load(model_path)\n",
    "\n",
    "    for j, task in enumerate(env.sample_tasks(3)):\n",
    "        env.reset_task(task)\n",
    "\n",
    "        obs = env.reset()\n",
    "        img = env.render(mode='rgb_array')\n",
    "\n",
    "        images = []\n",
    "\n",
    "        for i in range(video_length + 1):\n",
    "            img = cv2.cvtColor(img.copy(), cv2.COLOR_RGBA2BGRA)\n",
    "            origin = (240, 240)\n",
    "            dest = (\n",
    "                int(100 * np.cos(env.task['orientation'])) + 240, \n",
    "                int(100 * np.sin(env.task['orientation'])) + 240\n",
    "            )\n",
    "\n",
    "            # Draw orientation arrow\n",
    "            if name == 'g1-control-orientation' or name == 'g1-control-direction+orientation':\n",
    "\n",
    "                img = cv2.arrowedLine(img.copy(), origin, dest, (0, 255, 0), 9)\n",
    "\n",
    "                (ax, ay, az) = env.get_euler_angles()\n",
    "\n",
    "                dest = (\n",
    "                    int(100 * np.cos(az)) + 240, \n",
    "                    int(100 * np.sin(az)) + 240\n",
    "                )\n",
    "                \n",
    "                img = cv2.arrowedLine(img.copy(), origin, dest, (255, 0, 0), 9)\n",
    "\n",
    "\n",
    "            if name == 'g1-control-direction+orientation' or name == 'g1-control-direction':\n",
    "\n",
    "                dest = (\n",
    "                    int(50 * np.cos(-env.task['direction'])) + 240, \n",
    "                    int(50 * np.sin(-env.task['direction'])) + 240\n",
    "                )\n",
    "                \n",
    "                img = cv2.arrowedLine(img.copy(), origin, dest, (255, 255, 0), 9)\n",
    "\n",
    "            images.append(img)\n",
    "            action = model.predict(obs)\n",
    "            \n",
    "            obs, _, done, info = env.step(action[0])      \n",
    "            if done: break\n",
    "\n",
    "            img = env.render(mode='rgb_array')\n",
    "\n",
    "        imageio.mimsave(\n",
    "        'renders/' + name + '_' + str(j) + '.gif',\n",
    "            [np.array(img) for i, img in enumerate(images) if i%4 == 0], \n",
    "            fps=29,\n",
    "        )\n",
    "\n",
    "        image = Image.open('renders/' + name + '_' + str(j) + '.gif')\n",
    "        image.save('renders/' + name + '_' + str(j) + '.avif', quality=50, save_all=True, fps=29)\n",
    "        image.close()\n",
    "        os.remove('renders/' + name + '_' + str(j) + '.gif')\n",
    "\n",
    "    env.close()"
   ]
  },
  {
   "cell_type": "code",
   "execution_count": null,
   "id": "427601e0",
   "metadata": {},
   "outputs": [],
   "source": []
  }
 ],
 "metadata": {
  "kernelspec": {
   "display_name": "Python 3 (ipykernel)",
   "language": "python",
   "name": "python3"
  },
  "language_info": {
   "codemirror_mode": {
    "name": "ipython",
    "version": 3
   },
   "file_extension": ".py",
   "mimetype": "text/x-python",
   "name": "python",
   "nbconvert_exporter": "python",
   "pygments_lexer": "ipython3",
   "version": "3.10.6"
  },
  "vscode": {
   "interpreter": {
    "hash": "82ea6adb180b12ed72836e614d5d57295654ca2a9780d621124b81b6a9baa809"
   }
  }
 },
 "nbformat": 4,
 "nbformat_minor": 5
}
